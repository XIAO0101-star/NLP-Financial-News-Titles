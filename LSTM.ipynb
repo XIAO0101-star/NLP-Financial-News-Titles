{
 "cells": [
  {
   "cell_type": "code",
   "execution_count": null,
   "metadata": {
    "colab": {
     "base_uri": "https://localhost:8080/"
    },
    "id": "Qy0hSmgAITFa",
    "outputId": "d3e2c996-bb16-472d-c21c-2e762ac496c2"
   },
   "outputs": [
    {
     "name": "stdout",
     "output_type": "stream",
     "text": [
      "Looking in indexes: https://pypi.org/simple, https://us-python.pkg.dev/colab-wheels/public/simple/\n",
      "Collecting text_hammer\n",
      "  Downloading text_hammer-0.1.5-py3-none-any.whl (7.6 kB)\n",
      "Collecting beautifulsoup4==4.9.1 (from text_hammer)\n",
      "  Downloading beautifulsoup4-4.9.1-py3-none-any.whl (115 kB)\n",
      "\u001b[2K     \u001b[90m━━━━━━━━━━━━━━━━━━━━━━━━━━━━━━━━━━━━━━━\u001b[0m \u001b[32m115.1/115.1 kB\u001b[0m \u001b[31m8.2 MB/s\u001b[0m eta \u001b[36m0:00:00\u001b[0m\n",
      "\u001b[?25hRequirement already satisfied: pandas in /usr/local/lib/python3.10/dist-packages (from text_hammer) (1.5.3)\n",
      "Requirement already satisfied: numpy in /usr/local/lib/python3.10/dist-packages (from text_hammer) (1.22.4)\n",
      "Requirement already satisfied: spacy in /usr/local/lib/python3.10/dist-packages (from text_hammer) (3.5.2)\n",
      "Requirement already satisfied: TextBlob in /usr/local/lib/python3.10/dist-packages (from text_hammer) (0.17.1)\n",
      "Requirement already satisfied: soupsieve>1.2 in /usr/local/lib/python3.10/dist-packages (from beautifulsoup4==4.9.1->text_hammer) (2.4.1)\n",
      "Requirement already satisfied: python-dateutil>=2.8.1 in /usr/local/lib/python3.10/dist-packages (from pandas->text_hammer) (2.8.2)\n",
      "Requirement already satisfied: pytz>=2020.1 in /usr/local/lib/python3.10/dist-packages (from pandas->text_hammer) (2022.7.1)\n",
      "Requirement already satisfied: spacy-legacy<3.1.0,>=3.0.11 in /usr/local/lib/python3.10/dist-packages (from spacy->text_hammer) (3.0.12)\n",
      "Requirement already satisfied: spacy-loggers<2.0.0,>=1.0.0 in /usr/local/lib/python3.10/dist-packages (from spacy->text_hammer) (1.0.4)\n",
      "Requirement already satisfied: murmurhash<1.1.0,>=0.28.0 in /usr/local/lib/python3.10/dist-packages (from spacy->text_hammer) (1.0.9)\n",
      "Requirement already satisfied: cymem<2.1.0,>=2.0.2 in /usr/local/lib/python3.10/dist-packages (from spacy->text_hammer) (2.0.7)\n",
      "Requirement already satisfied: preshed<3.1.0,>=3.0.2 in /usr/local/lib/python3.10/dist-packages (from spacy->text_hammer) (3.0.8)\n",
      "Requirement already satisfied: thinc<8.2.0,>=8.1.8 in /usr/local/lib/python3.10/dist-packages (from spacy->text_hammer) (8.1.9)\n",
      "Requirement already satisfied: wasabi<1.2.0,>=0.9.1 in /usr/local/lib/python3.10/dist-packages (from spacy->text_hammer) (1.1.1)\n",
      "Requirement already satisfied: srsly<3.0.0,>=2.4.3 in /usr/local/lib/python3.10/dist-packages (from spacy->text_hammer) (2.4.6)\n",
      "Requirement already satisfied: catalogue<2.1.0,>=2.0.6 in /usr/local/lib/python3.10/dist-packages (from spacy->text_hammer) (2.0.8)\n",
      "Requirement already satisfied: typer<0.8.0,>=0.3.0 in /usr/local/lib/python3.10/dist-packages (from spacy->text_hammer) (0.7.0)\n",
      "Requirement already satisfied: pathy>=0.10.0 in /usr/local/lib/python3.10/dist-packages (from spacy->text_hammer) (0.10.1)\n",
      "Requirement already satisfied: smart-open<7.0.0,>=5.2.1 in /usr/local/lib/python3.10/dist-packages (from spacy->text_hammer) (6.3.0)\n",
      "Requirement already satisfied: tqdm<5.0.0,>=4.38.0 in /usr/local/lib/python3.10/dist-packages (from spacy->text_hammer) (4.65.0)\n",
      "Requirement already satisfied: requests<3.0.0,>=2.13.0 in /usr/local/lib/python3.10/dist-packages (from spacy->text_hammer) (2.27.1)\n",
      "Requirement already satisfied: pydantic!=1.8,!=1.8.1,<1.11.0,>=1.7.4 in /usr/local/lib/python3.10/dist-packages (from spacy->text_hammer) (1.10.7)\n",
      "Requirement already satisfied: jinja2 in /usr/local/lib/python3.10/dist-packages (from spacy->text_hammer) (3.1.2)\n",
      "Requirement already satisfied: setuptools in /usr/local/lib/python3.10/dist-packages (from spacy->text_hammer) (67.7.2)\n",
      "Requirement already satisfied: packaging>=20.0 in /usr/local/lib/python3.10/dist-packages (from spacy->text_hammer) (23.1)\n",
      "Requirement already satisfied: langcodes<4.0.0,>=3.2.0 in /usr/local/lib/python3.10/dist-packages (from spacy->text_hammer) (3.3.0)\n",
      "Requirement already satisfied: nltk>=3.1 in /usr/local/lib/python3.10/dist-packages (from TextBlob->text_hammer) (3.8.1)\n",
      "Requirement already satisfied: click in /usr/local/lib/python3.10/dist-packages (from nltk>=3.1->TextBlob->text_hammer) (8.1.3)\n",
      "Requirement already satisfied: joblib in /usr/local/lib/python3.10/dist-packages (from nltk>=3.1->TextBlob->text_hammer) (1.2.0)\n",
      "Requirement already satisfied: regex>=2021.8.3 in /usr/local/lib/python3.10/dist-packages (from nltk>=3.1->TextBlob->text_hammer) (2022.10.31)\n",
      "Requirement already satisfied: typing-extensions>=4.2.0 in /usr/local/lib/python3.10/dist-packages (from pydantic!=1.8,!=1.8.1,<1.11.0,>=1.7.4->spacy->text_hammer) (4.5.0)\n",
      "Requirement already satisfied: six>=1.5 in /usr/local/lib/python3.10/dist-packages (from python-dateutil>=2.8.1->pandas->text_hammer) (1.16.0)\n",
      "Requirement already satisfied: urllib3<1.27,>=1.21.1 in /usr/local/lib/python3.10/dist-packages (from requests<3.0.0,>=2.13.0->spacy->text_hammer) (1.26.15)\n",
      "Requirement already satisfied: certifi>=2017.4.17 in /usr/local/lib/python3.10/dist-packages (from requests<3.0.0,>=2.13.0->spacy->text_hammer) (2022.12.7)\n",
      "Requirement already satisfied: charset-normalizer~=2.0.0 in /usr/local/lib/python3.10/dist-packages (from requests<3.0.0,>=2.13.0->spacy->text_hammer) (2.0.12)\n",
      "Requirement already satisfied: idna<4,>=2.5 in /usr/local/lib/python3.10/dist-packages (from requests<3.0.0,>=2.13.0->spacy->text_hammer) (3.4)\n",
      "Requirement already satisfied: blis<0.8.0,>=0.7.8 in /usr/local/lib/python3.10/dist-packages (from thinc<8.2.0,>=8.1.8->spacy->text_hammer) (0.7.9)\n",
      "Requirement already satisfied: confection<1.0.0,>=0.0.1 in /usr/local/lib/python3.10/dist-packages (from thinc<8.2.0,>=8.1.8->spacy->text_hammer) (0.0.4)\n",
      "Requirement already satisfied: MarkupSafe>=2.0 in /usr/local/lib/python3.10/dist-packages (from jinja2->spacy->text_hammer) (2.1.2)\n",
      "Installing collected packages: beautifulsoup4, text_hammer\n",
      "  Attempting uninstall: beautifulsoup4\n",
      "    Found existing installation: beautifulsoup4 4.11.2\n",
      "    Uninstalling beautifulsoup4-4.11.2:\n",
      "      Successfully uninstalled beautifulsoup4-4.11.2\n",
      "\u001b[31mERROR: pip's dependency resolver does not currently take into account all the packages that are installed. This behaviour is the source of the following dependency conflicts.\n",
      "yfinance 0.2.18 requires beautifulsoup4>=4.11.1, but you have beautifulsoup4 4.9.1 which is incompatible.\u001b[0m\u001b[31m\n",
      "\u001b[0mSuccessfully installed beautifulsoup4-4.9.1 text_hammer-0.1.5\n"
     ]
    }
   ],
   "source": [
    "!pip install text_hammer\n",
    "import cv2\n",
    "import pandas as pd\n",
    "import numpy as np\n",
    "import os\n",
    "import matplotlib.pyplot as plt\n",
    "from matplotlib import cm\n",
    "import text_hammer as th\n",
    "import warnings\n",
    "warnings.filterwarnings('ignore')\n",
    "from tqdm import tqdm_notebook as tqdm"
   ]
  },
  {
   "cell_type": "markdown",
   "metadata": {
    "id": "0MIb7umUSoBZ"
   },
   "source": [
    "## Data Pre-**processing**"
   ]
  },
  {
   "cell_type": "code",
   "execution_count": null,
   "metadata": {
    "colab": {
     "base_uri": "https://localhost:8080/",
     "height": 76
    },
    "id": "DxnKwXw2IpJ4",
    "outputId": "1ed91e84-01df-44ff-c3fc-dccec8892381"
   },
   "outputs": [
    {
     "data": {
      "text/html": [
       "\n",
       "     <input type=\"file\" id=\"files-5821a0c2-d8ed-4f51-879e-3ba31c6abb18\" name=\"files[]\" multiple disabled\n",
       "        style=\"border:none\" />\n",
       "     <output id=\"result-5821a0c2-d8ed-4f51-879e-3ba31c6abb18\">\n",
       "      Upload widget is only available when the cell has been executed in the\n",
       "      current browser session. Please rerun this cell to enable.\n",
       "      </output>\n",
       "      <script>// Copyright 2017 Google LLC\n",
       "//\n",
       "// Licensed under the Apache License, Version 2.0 (the \"License\");\n",
       "// you may not use this file except in compliance with the License.\n",
       "// You may obtain a copy of the License at\n",
       "//\n",
       "//      http://www.apache.org/licenses/LICENSE-2.0\n",
       "//\n",
       "// Unless required by applicable law or agreed to in writing, software\n",
       "// distributed under the License is distributed on an \"AS IS\" BASIS,\n",
       "// WITHOUT WARRANTIES OR CONDITIONS OF ANY KIND, either express or implied.\n",
       "// See the License for the specific language governing permissions and\n",
       "// limitations under the License.\n",
       "\n",
       "/**\n",
       " * @fileoverview Helpers for google.colab Python module.\n",
       " */\n",
       "(function(scope) {\n",
       "function span(text, styleAttributes = {}) {\n",
       "  const element = document.createElement('span');\n",
       "  element.textContent = text;\n",
       "  for (const key of Object.keys(styleAttributes)) {\n",
       "    element.style[key] = styleAttributes[key];\n",
       "  }\n",
       "  return element;\n",
       "}\n",
       "\n",
       "// Max number of bytes which will be uploaded at a time.\n",
       "const MAX_PAYLOAD_SIZE = 100 * 1024;\n",
       "\n",
       "function _uploadFiles(inputId, outputId) {\n",
       "  const steps = uploadFilesStep(inputId, outputId);\n",
       "  const outputElement = document.getElementById(outputId);\n",
       "  // Cache steps on the outputElement to make it available for the next call\n",
       "  // to uploadFilesContinue from Python.\n",
       "  outputElement.steps = steps;\n",
       "\n",
       "  return _uploadFilesContinue(outputId);\n",
       "}\n",
       "\n",
       "// This is roughly an async generator (not supported in the browser yet),\n",
       "// where there are multiple asynchronous steps and the Python side is going\n",
       "// to poll for completion of each step.\n",
       "// This uses a Promise to block the python side on completion of each step,\n",
       "// then passes the result of the previous step as the input to the next step.\n",
       "function _uploadFilesContinue(outputId) {\n",
       "  const outputElement = document.getElementById(outputId);\n",
       "  const steps = outputElement.steps;\n",
       "\n",
       "  const next = steps.next(outputElement.lastPromiseValue);\n",
       "  return Promise.resolve(next.value.promise).then((value) => {\n",
       "    // Cache the last promise value to make it available to the next\n",
       "    // step of the generator.\n",
       "    outputElement.lastPromiseValue = value;\n",
       "    return next.value.response;\n",
       "  });\n",
       "}\n",
       "\n",
       "/**\n",
       " * Generator function which is called between each async step of the upload\n",
       " * process.\n",
       " * @param {string} inputId Element ID of the input file picker element.\n",
       " * @param {string} outputId Element ID of the output display.\n",
       " * @return {!Iterable<!Object>} Iterable of next steps.\n",
       " */\n",
       "function* uploadFilesStep(inputId, outputId) {\n",
       "  const inputElement = document.getElementById(inputId);\n",
       "  inputElement.disabled = false;\n",
       "\n",
       "  const outputElement = document.getElementById(outputId);\n",
       "  outputElement.innerHTML = '';\n",
       "\n",
       "  const pickedPromise = new Promise((resolve) => {\n",
       "    inputElement.addEventListener('change', (e) => {\n",
       "      resolve(e.target.files);\n",
       "    });\n",
       "  });\n",
       "\n",
       "  const cancel = document.createElement('button');\n",
       "  inputElement.parentElement.appendChild(cancel);\n",
       "  cancel.textContent = 'Cancel upload';\n",
       "  const cancelPromise = new Promise((resolve) => {\n",
       "    cancel.onclick = () => {\n",
       "      resolve(null);\n",
       "    };\n",
       "  });\n",
       "\n",
       "  // Wait for the user to pick the files.\n",
       "  const files = yield {\n",
       "    promise: Promise.race([pickedPromise, cancelPromise]),\n",
       "    response: {\n",
       "      action: 'starting',\n",
       "    }\n",
       "  };\n",
       "\n",
       "  cancel.remove();\n",
       "\n",
       "  // Disable the input element since further picks are not allowed.\n",
       "  inputElement.disabled = true;\n",
       "\n",
       "  if (!files) {\n",
       "    return {\n",
       "      response: {\n",
       "        action: 'complete',\n",
       "      }\n",
       "    };\n",
       "  }\n",
       "\n",
       "  for (const file of files) {\n",
       "    const li = document.createElement('li');\n",
       "    li.append(span(file.name, {fontWeight: 'bold'}));\n",
       "    li.append(span(\n",
       "        `(${file.type || 'n/a'}) - ${file.size} bytes, ` +\n",
       "        `last modified: ${\n",
       "            file.lastModifiedDate ? file.lastModifiedDate.toLocaleDateString() :\n",
       "                                    'n/a'} - `));\n",
       "    const percent = span('0% done');\n",
       "    li.appendChild(percent);\n",
       "\n",
       "    outputElement.appendChild(li);\n",
       "\n",
       "    const fileDataPromise = new Promise((resolve) => {\n",
       "      const reader = new FileReader();\n",
       "      reader.onload = (e) => {\n",
       "        resolve(e.target.result);\n",
       "      };\n",
       "      reader.readAsArrayBuffer(file);\n",
       "    });\n",
       "    // Wait for the data to be ready.\n",
       "    let fileData = yield {\n",
       "      promise: fileDataPromise,\n",
       "      response: {\n",
       "        action: 'continue',\n",
       "      }\n",
       "    };\n",
       "\n",
       "    // Use a chunked sending to avoid message size limits. See b/62115660.\n",
       "    let position = 0;\n",
       "    do {\n",
       "      const length = Math.min(fileData.byteLength - position, MAX_PAYLOAD_SIZE);\n",
       "      const chunk = new Uint8Array(fileData, position, length);\n",
       "      position += length;\n",
       "\n",
       "      const base64 = btoa(String.fromCharCode.apply(null, chunk));\n",
       "      yield {\n",
       "        response: {\n",
       "          action: 'append',\n",
       "          file: file.name,\n",
       "          data: base64,\n",
       "        },\n",
       "      };\n",
       "\n",
       "      let percentDone = fileData.byteLength === 0 ?\n",
       "          100 :\n",
       "          Math.round((position / fileData.byteLength) * 100);\n",
       "      percent.textContent = `${percentDone}% done`;\n",
       "\n",
       "    } while (position < fileData.byteLength);\n",
       "  }\n",
       "\n",
       "  // All done.\n",
       "  yield {\n",
       "    response: {\n",
       "      action: 'complete',\n",
       "    }\n",
       "  };\n",
       "}\n",
       "\n",
       "scope.google = scope.google || {};\n",
       "scope.google.colab = scope.google.colab || {};\n",
       "scope.google.colab._files = {\n",
       "  _uploadFiles,\n",
       "  _uploadFilesContinue,\n",
       "};\n",
       "})(self);\n",
       "</script> "
      ],
      "text/plain": [
       "<IPython.core.display.HTML object>"
      ]
     },
     "metadata": {},
     "output_type": "display_data"
    },
    {
     "name": "stdout",
     "output_type": "stream",
     "text": [
      "Saving FF6126_Team10_data.csv to FF6126_Team10_data.csv\n"
     ]
    }
   ],
   "source": [
    "from google.colab import files\n",
    "uploaded = files.upload()"
   ]
  },
  {
   "cell_type": "code",
   "execution_count": null,
   "metadata": {
    "colab": {
     "base_uri": "https://localhost:8080/",
     "height": 363
    },
    "id": "LKR8yJWiIwrb",
    "outputId": "32c6dd1a-e285-4880-f39f-21d00f03b0cd"
   },
   "outputs": [
    {
     "data": {
      "text/html": [
       "\n",
       "  <div id=\"df-d8884fcc-9f10-4f75-85ad-f9e5dd024ce4\">\n",
       "    <div class=\"colab-df-container\">\n",
       "      <div>\n",
       "<style scoped>\n",
       "    .dataframe tbody tr th:only-of-type {\n",
       "        vertical-align: middle;\n",
       "    }\n",
       "\n",
       "    .dataframe tbody tr th {\n",
       "        vertical-align: top;\n",
       "    }\n",
       "\n",
       "    .dataframe thead th {\n",
       "        text-align: right;\n",
       "    }\n",
       "</style>\n",
       "<table border=\"1\" class=\"dataframe\">\n",
       "  <thead>\n",
       "    <tr style=\"text-align: right;\">\n",
       "      <th></th>\n",
       "      <th>Sentence</th>\n",
       "      <th>Sentiment</th>\n",
       "    </tr>\n",
       "  </thead>\n",
       "  <tbody>\n",
       "    <tr>\n",
       "      <th>0</th>\n",
       "      <td>The GeoSolutions technology will leverage Bene...</td>\n",
       "      <td>positive</td>\n",
       "    </tr>\n",
       "    <tr>\n",
       "      <th>1</th>\n",
       "      <td>$ESI on lows, down $1.50 to $2.50 BK a real po...</td>\n",
       "      <td>negative</td>\n",
       "    </tr>\n",
       "    <tr>\n",
       "      <th>2</th>\n",
       "      <td>For the last quarter of 2010 , Componenta 's n...</td>\n",
       "      <td>positive</td>\n",
       "    </tr>\n",
       "    <tr>\n",
       "      <th>3</th>\n",
       "      <td>According to the Finnish-Russian Chamber of Co...</td>\n",
       "      <td>neutral</td>\n",
       "    </tr>\n",
       "    <tr>\n",
       "      <th>4</th>\n",
       "      <td>The Swedish buyout firm has sold its remaining...</td>\n",
       "      <td>neutral</td>\n",
       "    </tr>\n",
       "    <tr>\n",
       "      <th>5</th>\n",
       "      <td>$SPY wouldn't be surprised to see a green close</td>\n",
       "      <td>positive</td>\n",
       "    </tr>\n",
       "    <tr>\n",
       "      <th>6</th>\n",
       "      <td>Shell's $70 Billion BG Deal Meets Shareholder ...</td>\n",
       "      <td>negative</td>\n",
       "    </tr>\n",
       "    <tr>\n",
       "      <th>7</th>\n",
       "      <td>SSH COMMUNICATIONS SECURITY CORP STOCK EXCHANG...</td>\n",
       "      <td>negative</td>\n",
       "    </tr>\n",
       "    <tr>\n",
       "      <th>8</th>\n",
       "      <td>Kone 's net sales rose by some 14 % year-on-ye...</td>\n",
       "      <td>positive</td>\n",
       "    </tr>\n",
       "    <tr>\n",
       "      <th>9</th>\n",
       "      <td>The Stockmann department store will have a tot...</td>\n",
       "      <td>neutral</td>\n",
       "    </tr>\n",
       "  </tbody>\n",
       "</table>\n",
       "</div>\n",
       "      <button class=\"colab-df-convert\" onclick=\"convertToInteractive('df-d8884fcc-9f10-4f75-85ad-f9e5dd024ce4')\"\n",
       "              title=\"Convert this dataframe to an interactive table.\"\n",
       "              style=\"display:none;\">\n",
       "        \n",
       "  <svg xmlns=\"http://www.w3.org/2000/svg\" height=\"24px\"viewBox=\"0 0 24 24\"\n",
       "       width=\"24px\">\n",
       "    <path d=\"M0 0h24v24H0V0z\" fill=\"none\"/>\n",
       "    <path d=\"M18.56 5.44l.94 2.06.94-2.06 2.06-.94-2.06-.94-.94-2.06-.94 2.06-2.06.94zm-11 1L8.5 8.5l.94-2.06 2.06-.94-2.06-.94L8.5 2.5l-.94 2.06-2.06.94zm10 10l.94 2.06.94-2.06 2.06-.94-2.06-.94-.94-2.06-.94 2.06-2.06.94z\"/><path d=\"M17.41 7.96l-1.37-1.37c-.4-.4-.92-.59-1.43-.59-.52 0-1.04.2-1.43.59L10.3 9.45l-7.72 7.72c-.78.78-.78 2.05 0 2.83L4 21.41c.39.39.9.59 1.41.59.51 0 1.02-.2 1.41-.59l7.78-7.78 2.81-2.81c.8-.78.8-2.07 0-2.86zM5.41 20L4 18.59l7.72-7.72 1.47 1.35L5.41 20z\"/>\n",
       "  </svg>\n",
       "      </button>\n",
       "      \n",
       "  <style>\n",
       "    .colab-df-container {\n",
       "      display:flex;\n",
       "      flex-wrap:wrap;\n",
       "      gap: 12px;\n",
       "    }\n",
       "\n",
       "    .colab-df-convert {\n",
       "      background-color: #E8F0FE;\n",
       "      border: none;\n",
       "      border-radius: 50%;\n",
       "      cursor: pointer;\n",
       "      display: none;\n",
       "      fill: #1967D2;\n",
       "      height: 32px;\n",
       "      padding: 0 0 0 0;\n",
       "      width: 32px;\n",
       "    }\n",
       "\n",
       "    .colab-df-convert:hover {\n",
       "      background-color: #E2EBFA;\n",
       "      box-shadow: 0px 1px 2px rgba(60, 64, 67, 0.3), 0px 1px 3px 1px rgba(60, 64, 67, 0.15);\n",
       "      fill: #174EA6;\n",
       "    }\n",
       "\n",
       "    [theme=dark] .colab-df-convert {\n",
       "      background-color: #3B4455;\n",
       "      fill: #D2E3FC;\n",
       "    }\n",
       "\n",
       "    [theme=dark] .colab-df-convert:hover {\n",
       "      background-color: #434B5C;\n",
       "      box-shadow: 0px 1px 3px 1px rgba(0, 0, 0, 0.15);\n",
       "      filter: drop-shadow(0px 1px 2px rgba(0, 0, 0, 0.3));\n",
       "      fill: #FFFFFF;\n",
       "    }\n",
       "  </style>\n",
       "\n",
       "      <script>\n",
       "        const buttonEl =\n",
       "          document.querySelector('#df-d8884fcc-9f10-4f75-85ad-f9e5dd024ce4 button.colab-df-convert');\n",
       "        buttonEl.style.display =\n",
       "          google.colab.kernel.accessAllowed ? 'block' : 'none';\n",
       "\n",
       "        async function convertToInteractive(key) {\n",
       "          const element = document.querySelector('#df-d8884fcc-9f10-4f75-85ad-f9e5dd024ce4');\n",
       "          const dataTable =\n",
       "            await google.colab.kernel.invokeFunction('convertToInteractive',\n",
       "                                                     [key], {});\n",
       "          if (!dataTable) return;\n",
       "\n",
       "          const docLinkHtml = 'Like what you see? Visit the ' +\n",
       "            '<a target=\"_blank\" href=https://colab.research.google.com/notebooks/data_table.ipynb>data table notebook</a>'\n",
       "            + ' to learn more about interactive tables.';\n",
       "          element.innerHTML = '';\n",
       "          dataTable['output_type'] = 'display_data';\n",
       "          await google.colab.output.renderOutput(dataTable, element);\n",
       "          const docLink = document.createElement('div');\n",
       "          docLink.innerHTML = docLinkHtml;\n",
       "          element.appendChild(docLink);\n",
       "        }\n",
       "      </script>\n",
       "    </div>\n",
       "  </div>\n",
       "  "
      ],
      "text/plain": [
       "                                            Sentence Sentiment\n",
       "0  The GeoSolutions technology will leverage Bene...  positive\n",
       "1  $ESI on lows, down $1.50 to $2.50 BK a real po...  negative\n",
       "2  For the last quarter of 2010 , Componenta 's n...  positive\n",
       "3  According to the Finnish-Russian Chamber of Co...   neutral\n",
       "4  The Swedish buyout firm has sold its remaining...   neutral\n",
       "5    $SPY wouldn't be surprised to see a green close  positive\n",
       "6  Shell's $70 Billion BG Deal Meets Shareholder ...  negative\n",
       "7  SSH COMMUNICATIONS SECURITY CORP STOCK EXCHANG...  negative\n",
       "8  Kone 's net sales rose by some 14 % year-on-ye...  positive\n",
       "9  The Stockmann department store will have a tot...   neutral"
      ]
     },
     "execution_count": 5,
     "metadata": {},
     "output_type": "execute_result"
    }
   ],
   "source": [
    "df = pd.read_csv('FF6126_Team10_data.csv',encoding= \"ISO-8859-1\")\n",
    "df.head(10)"
   ]
  },
  {
   "cell_type": "code",
   "execution_count": null,
   "metadata": {
    "colab": {
     "base_uri": "https://localhost:8080/",
     "height": 449
    },
    "id": "0YiMhx0oI8vo",
    "outputId": "252af6bd-6208-4e99-cd0a-05a5f1ca891d"
   },
   "outputs": [
    {
     "data": {
      "image/png": "[encoded data removed]",
      "text/plain": [
       "<Figure size 640x480 with 1 Axes>"
      ]
     },
     "metadata": {},
     "output_type": "display_data"
    }
   ],
   "source": [
    "import seaborn as sns\n",
    "sns.set_style('darkgrid')\n",
    "sns.histplot(x='Sentiment',data=df)\n",
    "plt.show()"
   ]
  },
  {
   "cell_type": "code",
   "execution_count": null,
   "metadata": {
    "colab": {
     "base_uri": "https://localhost:8080/",
     "height": 206
    },
    "id": "IrzhQXLwJJLb",
    "outputId": "6aab9b34-0606-4243-e4af-119dfd522299"
   },
   "outputs": [
    {
     "data": {
      "text/html": [
       "\n",
       "  <div id=\"df-a2c72799-2b8c-4bcb-8343-2b115b0db950\">\n",
       "    <div class=\"colab-df-container\">\n",
       "      <div>\n",
       "<style scoped>\n",
       "    .dataframe tbody tr th:only-of-type {\n",
       "        vertical-align: middle;\n",
       "    }\n",
       "\n",
       "    .dataframe tbody tr th {\n",
       "        vertical-align: top;\n",
       "    }\n",
       "\n",
       "    .dataframe thead th {\n",
       "        text-align: right;\n",
       "    }\n",
       "</style>\n",
       "<table border=\"1\" class=\"dataframe\">\n",
       "  <thead>\n",
       "    <tr style=\"text-align: right;\">\n",
       "      <th></th>\n",
       "      <th>Sentence</th>\n",
       "      <th>Sentiment</th>\n",
       "      <th>len</th>\n",
       "    </tr>\n",
       "  </thead>\n",
       "  <tbody>\n",
       "    <tr>\n",
       "      <th>0</th>\n",
       "      <td>The GeoSolutions technology will leverage Bene...</td>\n",
       "      <td>positive</td>\n",
       "      <td>32</td>\n",
       "    </tr>\n",
       "    <tr>\n",
       "      <th>1</th>\n",
       "      <td>$ESI on lows, down $1.50 to $2.50 BK a real po...</td>\n",
       "      <td>negative</td>\n",
       "      <td>11</td>\n",
       "    </tr>\n",
       "    <tr>\n",
       "      <th>2</th>\n",
       "      <td>For the last quarter of 2010 , Componenta 's n...</td>\n",
       "      <td>positive</td>\n",
       "      <td>39</td>\n",
       "    </tr>\n",
       "    <tr>\n",
       "      <th>3</th>\n",
       "      <td>According to the Finnish-Russian Chamber of Co...</td>\n",
       "      <td>neutral</td>\n",
       "      <td>20</td>\n",
       "    </tr>\n",
       "    <tr>\n",
       "      <th>4</th>\n",
       "      <td>The Swedish buyout firm has sold its remaining...</td>\n",
       "      <td>neutral</td>\n",
       "      <td>23</td>\n",
       "    </tr>\n",
       "  </tbody>\n",
       "</table>\n",
       "</div>\n",
       "      <button class=\"colab-df-convert\" onclick=\"convertToInteractive('df-a2c72799-2b8c-4bcb-8343-2b115b0db950')\"\n",
       "              title=\"Convert this dataframe to an interactive table.\"\n",
       "              style=\"display:none;\">\n",
       "        \n",
       "  <svg xmlns=\"http://www.w3.org/2000/svg\" height=\"24px\"viewBox=\"0 0 24 24\"\n",
       "       width=\"24px\">\n",
       "    <path d=\"M0 0h24v24H0V0z\" fill=\"none\"/>\n",
       "    <path d=\"M18.56 5.44l.94 2.06.94-2.06 2.06-.94-2.06-.94-.94-2.06-.94 2.06-2.06.94zm-11 1L8.5 8.5l.94-2.06 2.06-.94-2.06-.94L8.5 2.5l-.94 2.06-2.06.94zm10 10l.94 2.06.94-2.06 2.06-.94-2.06-.94-.94-2.06-.94 2.06-2.06.94z\"/><path d=\"M17.41 7.96l-1.37-1.37c-.4-.4-.92-.59-1.43-.59-.52 0-1.04.2-1.43.59L10.3 9.45l-7.72 7.72c-.78.78-.78 2.05 0 2.83L4 21.41c.39.39.9.59 1.41.59.51 0 1.02-.2 1.41-.59l7.78-7.78 2.81-2.81c.8-.78.8-2.07 0-2.86zM5.41 20L4 18.59l7.72-7.72 1.47 1.35L5.41 20z\"/>\n",
       "  </svg>\n",
       "      </button>\n",
       "      \n",
       "  <style>\n",
       "    .colab-df-container {\n",
       "      display:flex;\n",
       "      flex-wrap:wrap;\n",
       "      gap: 12px;\n",
       "    }\n",
       "\n",
       "    .colab-df-convert {\n",
       "      background-color: #E8F0FE;\n",
       "      border: none;\n",
       "      border-radius: 50%;\n",
       "      cursor: pointer;\n",
       "      display: none;\n",
       "      fill: #1967D2;\n",
       "      height: 32px;\n",
       "      padding: 0 0 0 0;\n",
       "      width: 32px;\n",
       "    }\n",
       "\n",
       "    .colab-df-convert:hover {\n",
       "      background-color: #E2EBFA;\n",
       "      box-shadow: 0px 1px 2px rgba(60, 64, 67, 0.3), 0px 1px 3px 1px rgba(60, 64, 67, 0.15);\n",
       "      fill: #174EA6;\n",
       "    }\n",
       "\n",
       "    [theme=dark] .colab-df-convert {\n",
       "      background-color: #3B4455;\n",
       "      fill: #D2E3FC;\n",
       "    }\n",
       "\n",
       "    [theme=dark] .colab-df-convert:hover {\n",
       "      background-color: #434B5C;\n",
       "      box-shadow: 0px 1px 3px 1px rgba(0, 0, 0, 0.15);\n",
       "      filter: drop-shadow(0px 1px 2px rgba(0, 0, 0, 0.3));\n",
       "      fill: #FFFFFF;\n",
       "    }\n",
       "  </style>\n",
       "\n",
       "      <script>\n",
       "        const buttonEl =\n",
       "          document.querySelector('#df-a2c72799-2b8c-4bcb-8343-2b115b0db950 button.colab-df-convert');\n",
       "        buttonEl.style.display =\n",
       "          google.colab.kernel.accessAllowed ? 'block' : 'none';\n",
       "\n",
       "        async function convertToInteractive(key) {\n",
       "          const element = document.querySelector('#df-a2c72799-2b8c-4bcb-8343-2b115b0db950');\n",
       "          const dataTable =\n",
       "            await google.colab.kernel.invokeFunction('convertToInteractive',\n",
       "                                                     [key], {});\n",
       "          if (!dataTable) return;\n",
       "\n",
       "          const docLinkHtml = 'Like what you see? Visit the ' +\n",
       "            '<a target=\"_blank\" href=https://colab.research.google.com/notebooks/data_table.ipynb>data table notebook</a>'\n",
       "            + ' to learn more about interactive tables.';\n",
       "          element.innerHTML = '';\n",
       "          dataTable['output_type'] = 'display_data';\n",
       "          await google.colab.output.renderOutput(dataTable, element);\n",
       "          const docLink = document.createElement('div');\n",
       "          docLink.innerHTML = docLinkHtml;\n",
       "          element.appendChild(docLink);\n",
       "        }\n",
       "      </script>\n",
       "    </div>\n",
       "  </div>\n",
       "  "
      ],
      "text/plain": [
       "                                            Sentence Sentiment  len\n",
       "0  The GeoSolutions technology will leverage Bene...  positive   32\n",
       "1  $ESI on lows, down $1.50 to $2.50 BK a real po...  negative   11\n",
       "2  For the last quarter of 2010 , Componenta 's n...  positive   39\n",
       "3  According to the Finnish-Russian Chamber of Co...   neutral   20\n",
       "4  The Swedish buyout firm has sold its remaining...   neutral   23"
      ]
     },
     "execution_count": 7,
     "metadata": {},
     "output_type": "execute_result"
    }
   ],
   "source": [
    "df['len'] = list(map(lambda x: len(str(x).split(' ')),df['Sentence']))\n",
    "df.head()"
   ]
  },
  {
   "cell_type": "code",
   "execution_count": null,
   "metadata": {
    "colab": {
     "base_uri": "https://localhost:8080/",
     "height": 449
    },
    "id": "3DfD56GtJOIv",
    "outputId": "095204d9-f17c-449b-825a-1f710540a91f"
   },
   "outputs": [
    {
     "data": {
      "image/png": "[encoded data removed]",
      "text/plain": [
       "<Figure size 640x480 with 1 Axes>"
      ]
     },
     "metadata": {},
     "output_type": "display_data"
    }
   ],
   "source": [
    "sns.kdeplot(x='len',hue='Sentiment',data=df)\n",
    "plt.show()"
   ]
  },
  {
   "cell_type": "code",
   "execution_count": null,
   "metadata": {
    "colab": {
     "base_uri": "https://localhost:8080/",
     "height": 206
    },
    "id": "6qyRBF9kJPca",
    "outputId": "2406446a-3f59-49e6-f30e-b6f6dddac092"
   },
   "outputs": [
    {
     "data": {
      "text/html": [
       "\n",
       "  <div id=\"df-1dbd8cab-2c3f-4836-9119-19c929587d85\">\n",
       "    <div class=\"colab-df-container\">\n",
       "      <div>\n",
       "<style scoped>\n",
       "    .dataframe tbody tr th:only-of-type {\n",
       "        vertical-align: middle;\n",
       "    }\n",
       "\n",
       "    .dataframe tbody tr th {\n",
       "        vertical-align: top;\n",
       "    }\n",
       "\n",
       "    .dataframe thead th {\n",
       "        text-align: right;\n",
       "    }\n",
       "</style>\n",
       "<table border=\"1\" class=\"dataframe\">\n",
       "  <thead>\n",
       "    <tr style=\"text-align: right;\">\n",
       "      <th></th>\n",
       "      <th>Sentence</th>\n",
       "      <th>Sentiment</th>\n",
       "      <th>len</th>\n",
       "    </tr>\n",
       "  </thead>\n",
       "  <tbody>\n",
       "    <tr>\n",
       "      <th>0</th>\n",
       "      <td>The GeoSolutions technology will leverage Bene...</td>\n",
       "      <td>0</td>\n",
       "      <td>32</td>\n",
       "    </tr>\n",
       "    <tr>\n",
       "      <th>1</th>\n",
       "      <td>$ESI on lows, down $1.50 to $2.50 BK a real po...</td>\n",
       "      <td>1</td>\n",
       "      <td>11</td>\n",
       "    </tr>\n",
       "    <tr>\n",
       "      <th>2</th>\n",
       "      <td>For the last quarter of 2010 , Componenta 's n...</td>\n",
       "      <td>0</td>\n",
       "      <td>39</td>\n",
       "    </tr>\n",
       "    <tr>\n",
       "      <th>3</th>\n",
       "      <td>According to the Finnish-Russian Chamber of Co...</td>\n",
       "      <td>2</td>\n",
       "      <td>20</td>\n",
       "    </tr>\n",
       "    <tr>\n",
       "      <th>4</th>\n",
       "      <td>The Swedish buyout firm has sold its remaining...</td>\n",
       "      <td>2</td>\n",
       "      <td>23</td>\n",
       "    </tr>\n",
       "  </tbody>\n",
       "</table>\n",
       "</div>\n",
       "      <button class=\"colab-df-convert\" onclick=\"convertToInteractive('df-1dbd8cab-2c3f-4836-9119-19c929587d85')\"\n",
       "              title=\"Convert this dataframe to an interactive table.\"\n",
       "              style=\"display:none;\">\n",
       "        \n",
       "  <svg xmlns=\"http://www.w3.org/2000/svg\" height=\"24px\"viewBox=\"0 0 24 24\"\n",
       "       width=\"24px\">\n",
       "    <path d=\"M0 0h24v24H0V0z\" fill=\"none\"/>\n",
       "    <path d=\"M18.56 5.44l.94 2.06.94-2.06 2.06-.94-2.06-.94-.94-2.06-.94 2.06-2.06.94zm-11 1L8.5 8.5l.94-2.06 2.06-.94-2.06-.94L8.5 2.5l-.94 2.06-2.06.94zm10 10l.94 2.06.94-2.06 2.06-.94-2.06-.94-.94-2.06-.94 2.06-2.06.94z\"/><path d=\"M17.41 7.96l-1.37-1.37c-.4-.4-.92-.59-1.43-.59-.52 0-1.04.2-1.43.59L10.3 9.45l-7.72 7.72c-.78.78-.78 2.05 0 2.83L4 21.41c.39.39.9.59 1.41.59.51 0 1.02-.2 1.41-.59l7.78-7.78 2.81-2.81c.8-.78.8-2.07 0-2.86zM5.41 20L4 18.59l7.72-7.72 1.47 1.35L5.41 20z\"/>\n",
       "  </svg>\n",
       "      </button>\n",
       "      \n",
       "  <style>\n",
       "    .colab-df-container {\n",
       "      display:flex;\n",
       "      flex-wrap:wrap;\n",
       "      gap: 12px;\n",
       "    }\n",
       "\n",
       "    .colab-df-convert {\n",
       "      background-color: #E8F0FE;\n",
       "      border: none;\n",
       "      border-radius: 50%;\n",
       "      cursor: pointer;\n",
       "      display: none;\n",
       "      fill: #1967D2;\n",
       "      height: 32px;\n",
       "      padding: 0 0 0 0;\n",
       "      width: 32px;\n",
       "    }\n",
       "\n",
       "    .colab-df-convert:hover {\n",
       "      background-color: #E2EBFA;\n",
       "      box-shadow: 0px 1px 2px rgba(60, 64, 67, 0.3), 0px 1px 3px 1px rgba(60, 64, 67, 0.15);\n",
       "      fill: #174EA6;\n",
       "    }\n",
       "\n",
       "    [theme=dark] .colab-df-convert {\n",
       "      background-color: #3B4455;\n",
       "      fill: #D2E3FC;\n",
       "    }\n",
       "\n",
       "    [theme=dark] .colab-df-convert:hover {\n",
       "      background-color: #434B5C;\n",
       "      box-shadow: 0px 1px 3px 1px rgba(0, 0, 0, 0.15);\n",
       "      filter: drop-shadow(0px 1px 2px rgba(0, 0, 0, 0.3));\n",
       "      fill: #FFFFFF;\n",
       "    }\n",
       "  </style>\n",
       "\n",
       "      <script>\n",
       "        const buttonEl =\n",
       "          document.querySelector('#df-1dbd8cab-2c3f-4836-9119-19c929587d85 button.colab-df-convert');\n",
       "        buttonEl.style.display =\n",
       "          google.colab.kernel.accessAllowed ? 'block' : 'none';\n",
       "\n",
       "        async function convertToInteractive(key) {\n",
       "          const element = document.querySelector('#df-1dbd8cab-2c3f-4836-9119-19c929587d85');\n",
       "          const dataTable =\n",
       "            await google.colab.kernel.invokeFunction('convertToInteractive',\n",
       "                                                     [key], {});\n",
       "          if (!dataTable) return;\n",
       "\n",
       "          const docLinkHtml = 'Like what you see? Visit the ' +\n",
       "            '<a target=\"_blank\" href=https://colab.research.google.com/notebooks/data_table.ipynb>data table notebook</a>'\n",
       "            + ' to learn more about interactive tables.';\n",
       "          element.innerHTML = '';\n",
       "          dataTable['output_type'] = 'display_data';\n",
       "          await google.colab.output.renderOutput(dataTable, element);\n",
       "          const docLink = document.createElement('div');\n",
       "          docLink.innerHTML = docLinkHtml;\n",
       "          element.appendChild(docLink);\n",
       "        }\n",
       "      </script>\n",
       "    </div>\n",
       "  </div>\n",
       "  "
      ],
      "text/plain": [
       "                                            Sentence  Sentiment  len\n",
       "0  The GeoSolutions technology will leverage Bene...          0   32\n",
       "1  $ESI on lows, down $1.50 to $2.50 BK a real po...          1   11\n",
       "2  For the last quarter of 2010 , Componenta 's n...          0   39\n",
       "3  According to the Finnish-Russian Chamber of Co...          2   20\n",
       "4  The Swedish buyout firm has sold its remaining...          2   23"
      ]
     },
     "execution_count": 9,
     "metadata": {},
     "output_type": "execute_result"
    }
   ],
   "source": [
    "mapdf = {'positive':0,'negative':1,'neutral':2}\n",
    "df['Sentiment'] = list(map(lambda x:mapdf[x],df['Sentiment']))\n",
    "df.head()"
   ]
  },
  {
   "cell_type": "code",
   "execution_count": null,
   "metadata": {
    "colab": {
     "base_uri": "https://localhost:8080/"
    },
    "id": "Jv7CNL24JTxv",
    "outputId": "2993451d-fc91-483e-8c02-330e4e540941"
   },
   "outputs": [
    {
     "name": "stdout",
     "output_type": "stream",
     "text": [
      "0.011804443334257564\n"
     ]
    }
   ],
   "source": [
    "print(df['Sentiment'].corr(df['len']))"
   ]
  },
  {
   "cell_type": "markdown",
   "metadata": {
    "id": "048EFHyFS3RC"
   },
   "source": [
    "Here as we are going to execute exactly the same procedures on both train and test data (such as removing punctuations and tokenizing using exactly the same library), we will choose to do this on both set of data at the same time in order to reduce the lenght of the program. We actually have the ability to seperately process data for train and test."
   ]
  },
  {
   "cell_type": "code",
   "execution_count": null,
   "metadata": {
    "id": "TJLnaJc2JUmV"
   },
   "outputs": [],
   "source": [
    "sentences = df['Sentence'].copy()[:]\n",
    "sentences = sentences.to_list()\n",
    "sentences = list(map(lambda x: x.lower(),sentences))\n",
    "sentences = list(map(lambda x: th.cont_exp(x),sentences))\n",
    "sentences = list(map(lambda x: th.remove_emails(x),sentences))\n",
    "sentences = list(map(lambda x: th.remove_emails(x),sentences))\n",
    "sentences = list(map(lambda x: th.remove_html_tags(x),sentences))\n",
    "sentences = list(map(lambda x: th.remove_stopwords(x),sentences))\n",
    "sentences = list(map(lambda x: th.remove_special_chars(x),sentences))\n",
    "sentences = list(map(lambda x: th.remove_accented_chars(x),sentences))\n",
    "sentences = list(map(lambda x: th.make_base(x),sentences))"
   ]
  },
  {
   "cell_type": "code",
   "execution_count": null,
   "metadata": {
    "colab": {
     "base_uri": "https://localhost:8080/"
    },
    "id": "kaZcNCcOJuzR",
    "outputId": "9d6c358a-f1a5-4f65-fb12-1ae3de300ced"
   },
   "outputs": [
    {
     "data": {
      "text/plain": [
       "['geosolutions technology leverage benefon global positioning system solution provide location base search technology community platform location relevant multimedia content new powerful commercial model',\n",
       " 'esi low 150 250 bk real possibility',\n",
       " 'quarter 2010 componenta net sale double eur131 m eur76 m period year early move zero pretax profit pretax loss eur7 m']"
      ]
     },
     "execution_count": 12,
     "metadata": {},
     "output_type": "execute_result"
    }
   ],
   "source": [
    "sentences[:3]"
   ]
  },
  {
   "cell_type": "code",
   "execution_count": null,
   "metadata": {
    "colab": {
     "base_uri": "https://localhost:8080/",
     "height": 265,
     "referenced_widgets": [
      "af86797e5e924c8eaf9397474c0c68aa",
      "471b260120db4e0ca7675e985f844022",
      "13e04dcf48b8474794a5fcc2e594a326",
      "f6ef33cb6254442faf66853f438c47d7",
      "59b0edb02ee643c6bd9c7a033b8b2e86",
      "f63b5f970fac4515a48ccc3178d4efef",
      "725f3dc2a15743f3adfcc72a0dfb15e0",
      "28a66ce6e8d14f8b9e792b467dc4c5eb",
      "9ca955d3ed084e85b5d7221e89ed5d63",
      "03ba2a4502f74d6eb9e8331d244b36cc",
      "a8ab7fd715c743b99a86d5d552274ffe"
     ]
    },
    "id": "ib10TJSxJxkB",
    "outputId": "e34bab6c-3a8b-4b4e-d84f-d58a50436eaf"
   },
   "outputs": [
    {
     "name": "stderr",
     "output_type": "stream",
     "text": [
      "[nltk_data] Downloading package punkt to /root/nltk_data...\n",
      "[nltk_data]   Unzipping tokenizers/punkt.zip.\n"
     ]
    },
    {
     "data": {
      "application/vnd.jupyter.widget-view+json": {
       "model_id": "af86797e5e924c8eaf9397474c0c68aa",
       "version_major": 2,
       "version_minor": 0
      },
      "text/plain": [
       "  0%|          | 0/10688 [00:00<?, ?it/s]"
      ]
     },
     "metadata": {},
     "output_type": "display_data"
    },
    {
     "data": {
      "text/plain": [
       "[('eur', 2299),\n",
       " ('company', 1885),\n",
       " ('mn', 1244),\n",
       " ('say', 1169),\n",
       " ('sale', 1108),\n",
       " ('finnish', 1039),\n",
       " ('profit', 997),\n",
       " ('share', 950),\n",
       " ('million', 934),\n",
       " ('net', 912)]"
      ]
     },
     "execution_count": 14,
     "metadata": {},
     "output_type": "execute_result"
    }
   ],
   "source": [
    "import nltk\n",
    "nltk.download('punkt')\n",
    "pairs = []\n",
    "for sent in tqdm(sentences):\n",
    "    pairs.extend(nltk.word_tokenize(sent))\n",
    "freq = nltk.FreqDist(pairs)\n",
    "freq.most_common(10)"
   ]
  },
  {
   "cell_type": "code",
   "execution_count": null,
   "metadata": {
    "colab": {
     "base_uri": "https://localhost:8080/",
     "height": 472
    },
    "id": "Tr9whDr3J_ju",
    "outputId": "bfffcdd4-0d49-4d82-e5cd-76d0d4808b4a"
   },
   "outputs": [
    {
     "data": {
      "image/png": "[encoded data removed]",
      "text/plain": [
       "<Figure size 640x480 with 1 Axes>"
      ]
     },
     "metadata": {},
     "output_type": "display_data"
    }
   ],
   "source": [
    "tempdf = pd.DataFrame(freq.most_common(10),  columns=['word', 'count'])\n",
    "sns.barplot(x='word',y='count',data=tempdf)\n",
    "plt.title(\"Top 10 words\")\n",
    "plt.show()"
   ]
  },
  {
   "cell_type": "code",
   "execution_count": null,
   "metadata": {
    "id": "xZC-uZfaKCVx"
   },
   "outputs": [],
   "source": [
    "from sklearn.model_selection import train_test_split\n",
    "from keras.utils import to_categorical\n",
    "y = to_categorical(df['Sentiment'])\n",
    "x = sentences.copy()\n",
    "X_train,X_test, y_train,y_test = train_test_split(x,y,test_size=0.3,stratify=y,random_state=42)"
   ]
  },
  {
   "cell_type": "markdown",
   "metadata": {
    "id": "lPps_D7_Twap"
   },
   "source": [
    "Tokenization"
   ]
  },
  {
   "cell_type": "code",
   "execution_count": null,
   "metadata": {
    "id": "gBjy4s2mKZDp"
   },
   "outputs": [],
   "source": [
    "from keras.preprocessing.text import Tokenizer\n",
    "num_words = 13000 \n",
    "tokenizer=Tokenizer(num_words,lower=True)\n",
    "df_total = pd.concat([pd.Series(X_train), pd.Series(X_test)], axis = 0)\n",
    "tokenizer.fit_on_texts(df_total)"
   ]
  },
  {
   "cell_type": "code",
   "execution_count": null,
   "metadata": {
    "id": "sUiVfsqgKb-6"
   },
   "outputs": [],
   "source": [
    "from tensorflow.keras.preprocessing.sequence import pad_sequences\n",
    "\n",
    "X_train_ =tokenizer.texts_to_sequences(X_train)\n",
    "X_train_pad=pad_sequences(X_train_,maxlen=81,padding='post')\n",
    "X_test_ = tokenizer.texts_to_sequences(X_test)\n",
    "X_test_pad = pad_sequences(X_test_, maxlen = 81, padding = 'post')"
   ]
  },
  {
   "cell_type": "code",
   "execution_count": null,
   "metadata": {
    "colab": {
     "base_uri": "https://localhost:8080/"
    },
    "id": "35ZC0miNKkPr",
    "outputId": "dcd55a3c-ab60-42c3-87af-e3787afb7c58"
   },
   "outputs": [
    {
     "name": "stdout",
     "output_type": "stream",
     "text": [
      "(7481, 81) (3207, 81)\n"
     ]
    }
   ],
   "source": [
    "print(X_train_pad.shape,X_test_pad.shape)"
   ]
  },
  {
   "cell_type": "markdown",
   "metadata": {
    "id": "j0jKdV1-T0vY"
   },
   "source": [
    "# **Simple LSTM neural network**\n",
    "Set up layers of the network"
   ]
  },
  {
   "cell_type": "code",
   "execution_count": null,
   "metadata": {
    "id": "onuEtlYQKpE_"
   },
   "outputs": [],
   "source": [
    "from keras.models import Sequential\n",
    "from keras.layers import LSTM,Dense,Bidirectional,Embedding,Dropout"
   ]
  },
  {
   "cell_type": "code",
   "execution_count": null,
   "metadata": {
    "id": "QNO9FMnVKrS-"
   },
   "outputs": [],
   "source": [
    "lstm = Sequential()\n",
    "lstm.add(Embedding(input_dim = num_words,\n",
    "                          output_dim = 100,\n",
    "                          input_length= X_train_pad.shape[1]))\n",
    "lstm.add(Dropout(0.2))\n",
    "lstm.add(Bidirectional(LSTM(128,return_sequences=True)))\n",
    "lstm.add(Dropout(0.2))\n",
    "lstm.add(Bidirectional(LSTM(256,return_sequences=True)))\n",
    "lstm.add(Dropout(0.2))\n",
    "lstm.add(Bidirectional(LSTM(128,return_sequences=False)))\n",
    "lstm.add(Dense(64,activation='tanh'))\n",
    "lstm.add(Dense(32,activation='tanh'))\n",
    "lstm.add(Dense(10,activation='tanh'))\n",
    "lstm.add(Dense(3,activation='softmax'))"
   ]
  },
  {
   "cell_type": "code",
   "execution_count": null,
   "metadata": {
    "id": "3fGD02RzKuoa"
   },
   "outputs": [],
   "source": [
    "lstm.compile(optimizer='adam',loss='categorical_crossentropy',metrics=['accuracy'])"
   ]
  },
  {
   "cell_type": "code",
   "execution_count": null,
   "metadata": {
    "colab": {
     "base_uri": "https://localhost:8080/"
    },
    "id": "NhQhKdw_KyJi",
    "outputId": "878f8dde-c789-40d0-b39b-90456a548ada"
   },
   "outputs": [
    {
     "name": "stdout",
     "output_type": "stream",
     "text": [
      "Model: \"sequential\"\n",
      "_________________________________________________________________\n",
      " Layer (type)                Output Shape              Param #   \n",
      "=================================================================\n",
      " embedding (Embedding)       (None, 81, 100)           1300000   \n",
      "                                                                 \n",
      " dropout (Dropout)           (None, 81, 100)           0         \n",
      "                                                                 \n",
      " bidirectional (Bidirectiona  (None, 81, 256)          234496    \n",
      " l)                                                              \n",
      "                                                                 \n",
      " dropout_1 (Dropout)         (None, 81, 256)           0         \n",
      "                                                                 \n",
      " bidirectional_1 (Bidirectio  (None, 81, 512)          1050624   \n",
      " nal)                                                            \n",
      "                                                                 \n",
      " dropout_2 (Dropout)         (None, 81, 512)           0         \n",
      "                                                                 \n",
      " bidirectional_2 (Bidirectio  (None, 256)              656384    \n",
      " nal)                                                            \n",
      "                                                                 \n",
      " dense (Dense)               (None, 64)                16448     \n",
      "                                                                 \n",
      " dense_1 (Dense)             (None, 32)                2080      \n",
      "                                                                 \n",
      " dense_2 (Dense)             (None, 10)                330       \n",
      "                                                                 \n",
      " dense_3 (Dense)             (None, 3)                 33        \n",
      "                                                                 \n",
      "=================================================================\n",
      "Total params: 3,260,395\n",
      "Trainable params: 3,260,395\n",
      "Non-trainable params: 0\n",
      "_________________________________________________________________\n"
     ]
    }
   ],
   "source": [
    "lstm.summary()"
   ]
  },
  {
   "cell_type": "code",
   "execution_count": null,
   "metadata": {
    "id": "E3SLsLW2K0nA"
   },
   "outputs": [],
   "source": [
    "from keras.callbacks import EarlyStopping, ModelCheckpoint\n",
    "es = EarlyStopping(monitor = 'val_loss', mode = 'min', verbose = 1, patience = 5)\n",
    "mc = ModelCheckpoint('./model.h5', monitor = 'val_accuracy', mode = 'max', verbose = 1, save_best_only = True)"
   ]
  },
  {
   "cell_type": "markdown",
   "metadata": {
    "id": "sBSPZewNUJtT"
   },
   "source": [
    "Fit the train set to this network."
   ]
  },
  {
   "cell_type": "code",
   "execution_count": null,
   "metadata": {
    "colab": {
     "base_uri": "https://localhost:8080/"
    },
    "id": "D_hf6cKpK2tx",
    "outputId": "183fddc6-9450-47bf-e85b-1911913a4e5d"
   },
   "outputs": [
    {
     "name": "stdout",
     "output_type": "stream",
     "text": [
      "Epoch 1/10\n",
      "117/117 [==============================] - ETA: 0s - loss: 0.7863 - accuracy: 0.6539\n",
      "Epoch 1: val_accuracy improved from -inf to 0.73558, saving model to ./model.h5\n",
      "117/117 [==============================] - 214s 2s/step - loss: 0.7863 - accuracy: 0.6539 - val_loss: 0.6361 - val_accuracy: 0.7356\n",
      "Epoch 2/10\n",
      "117/117 [==============================] - ETA: 0s - loss: 0.4092 - accuracy: 0.8425\n",
      "Epoch 2: val_accuracy improved from 0.73558 to 0.78516, saving model to ./model.h5\n",
      "117/117 [==============================] - 200s 2s/step - loss: 0.4092 - accuracy: 0.8425 - val_loss: 0.5316 - val_accuracy: 0.7852\n",
      "Epoch 3/10\n",
      "117/117 [==============================] - ETA: 0s - loss: 0.2410 - accuracy: 0.9103\n",
      "Epoch 3: val_accuracy improved from 0.78516 to 0.79638, saving model to ./model.h5\n",
      "117/117 [==============================] - 199s 2s/step - loss: 0.2410 - accuracy: 0.9103 - val_loss: 0.5821 - val_accuracy: 0.7964\n",
      "Epoch 4/10\n",
      "117/117 [==============================] - ETA: 0s - loss: 0.1878 - accuracy: 0.9289\n",
      "Epoch 4: val_accuracy did not improve from 0.79638\n",
      "117/117 [==============================] - 200s 2s/step - loss: 0.1878 - accuracy: 0.9289 - val_loss: 0.6585 - val_accuracy: 0.7714\n",
      "Epoch 5/10\n",
      "117/117 [==============================] - ETA: 0s - loss: 0.1751 - accuracy: 0.9328\n",
      "Epoch 5: val_accuracy did not improve from 0.79638\n",
      "117/117 [==============================] - 200s 2s/step - loss: 0.1751 - accuracy: 0.9328 - val_loss: 0.6358 - val_accuracy: 0.7852\n",
      "Epoch 6/10\n",
      "117/117 [==============================] - ETA: 0s - loss: 0.1608 - accuracy: 0.9401\n",
      "Epoch 6: val_accuracy did not improve from 0.79638\n",
      "117/117 [==============================] - 201s 2s/step - loss: 0.1608 - accuracy: 0.9401 - val_loss: 0.6937 - val_accuracy: 0.7802\n",
      "Epoch 7/10\n",
      "117/117 [==============================] - ETA: 0s - loss: 0.1422 - accuracy: 0.9433\n",
      "Epoch 7: val_accuracy did not improve from 0.79638\n",
      "117/117 [==============================] - 201s 2s/step - loss: 0.1422 - accuracy: 0.9433 - val_loss: 0.7114 - val_accuracy: 0.7964\n",
      "Epoch 7: early stopping\n"
     ]
    }
   ],
   "source": [
    "lstm_history = lstm.fit(X_train_pad,y_train, epochs = 10, batch_size = 64, validation_data=(X_test_pad, y_test),verbose = 1, callbacks= [es, mc])"
   ]
  },
  {
   "cell_type": "code",
   "execution_count": null,
   "metadata": {
    "colab": {
     "base_uri": "https://localhost:8080/",
     "height": 449
    },
    "id": "uRGaHfylK5wL",
    "outputId": "ad89738a-2223-45bd-869c-1396dd67a5dd"
   },
   "outputs": [
    {
     "data": {
      "image/png": "[encoded data removed]",
      "text/plain": [
       "<Figure size 640x480 with 1 Axes>"
      ]
     },
     "metadata": {},
     "output_type": "display_data"
    }
   ],
   "source": [
    "plt.plot(lstm_history.history['accuracy'], label='Train Data')\n",
    "plt.plot(lstm_history.history['val_accuracy'], label='Test Data')\n",
    "plt.xlabel('Epoch')\n",
    "plt.ylabel('Accuracy')\n",
    "#plt.ylim([0.8, 1])\n",
    "plt.legend(loc='best')\n",
    "plt.show()"
   ]
  },
  {
   "cell_type": "code",
   "execution_count": null,
   "metadata": {
    "colab": {
     "base_uri": "https://localhost:8080/",
     "height": 449
    },
    "id": "danoQ2kKQ6lH",
    "outputId": "3b55694a-ca21-4cc7-bcf9-3c79c620fc56"
   },
   "outputs": [
    {
     "data": {
      "image/png": "[encoded data removed]",
      "text/plain": [
       "<Figure size 640x480 with 1 Axes>"
      ]
     },
     "metadata": {},
     "output_type": "display_data"
    }
   ],
   "source": [
    "plt.plot(lstm_history.history['loss'], label='Train loss')\n",
    "plt.plot(lstm_history.history['val_loss'], label='Test loss')\n",
    "plt.xlabel('Epoch')\n",
    "plt.ylabel('Loss')\n",
    "plt.legend(loc='best')\n",
    "plt.show()"
   ]
  },
  {
   "cell_type": "markdown",
   "metadata": {
    "id": "yc4wSrZ4UOCH"
   },
   "source": [
    "Predict the test set and get accuracy result."
   ]
  },
  {
   "cell_type": "code",
   "execution_count": null,
   "metadata": {
    "colab": {
     "base_uri": "https://localhost:8080/"
    },
    "id": "-OWlFfrVQ-9w",
    "outputId": "dd078ac8-7cda-4da0-951b-e388730ec0d0"
   },
   "outputs": [
    {
     "name": "stdout",
     "output_type": "stream",
     "text": [
      "101/101 [==============================] - 27s 246ms/step\n",
      "              precision    recall  f1-score   support\n",
      "\n",
      "    positive       0.80      0.84      0.82       965\n",
      "    negative       0.55      0.66      0.60       439\n",
      "     neutral       0.87      0.81      0.84      1803\n",
      "\n",
      "    accuracy                           0.80      3207\n",
      "   macro avg       0.74      0.77      0.75      3207\n",
      "weighted avg       0.81      0.80      0.80      3207\n",
      "\n"
     ]
    }
   ],
   "source": [
    "from sklearn.metrics import classification_report\n",
    "predictions = lstm.predict(X_test_pad)\n",
    "target_names=['positive','negative','neutral']\n",
    "print(classification_report(np.argmax(y_test,axis=1),np.argmax(predictions,axis=1),target_names=target_names))"
   ]
  },
  {
   "cell_type": "markdown",
   "metadata": {
    "id": "PBCwk9YzUTgx"
   },
   "source": [
    "# **GLOVE embedding method + LSTM**\n",
    "Download Pre-trained GloVe vector for embedding the padded sequence."
   ]
  },
  {
   "cell_type": "code",
   "execution_count": null,
   "metadata": {
    "colab": {
     "base_uri": "https://localhost:8080/"
    },
    "id": "Q61DsRS8RGw_",
    "outputId": "b461a61c-5a48-4940-a724-ee82ac3609d1"
   },
   "outputs": [
    {
     "name": "stdout",
     "output_type": "stream",
     "text": [
      "[==================================================] 100.0% 376.1/376.1MB downloaded\n"
     ]
    }
   ],
   "source": [
    "import gensim.downloader as api\n",
    "glove_gensim  = api.load('glove-wiki-gigaword-300')"
   ]
  },
  {
   "cell_type": "code",
   "execution_count": null,
   "metadata": {
    "colab": {
     "base_uri": "https://localhost:8080/"
    },
    "id": "kfTtRaT9SV2_",
    "outputId": "961e8716-0bf2-42ad-e702-dc2a3e6cbacd"
   },
   "outputs": [
    {
     "data": {
      "text/plain": [
       "[('queen', 0.6713277101516724)]"
      ]
     },
     "execution_count": 32,
     "metadata": {},
     "output_type": "execute_result"
    }
   ],
   "source": [
    "glove_gensim.most_similar(positive=['king','woman'],negative=['man'],topn=1)"
   ]
  },
  {
   "cell_type": "code",
   "execution_count": null,
   "metadata": {
    "colab": {
     "base_uri": "https://localhost:8080/",
     "height": 49,
     "referenced_widgets": [
      "bcef26bfbd284505a063eca2ac2c5c99",
      "8988fdcd4958477b96d46be163360520",
      "1f9e64ac782443a2abc8d837e7b451fc",
      "c69dca0d94de4e90b68009403d423d65",
      "0171757e063c4b6787239eab2bf62712",
      "030c887b5f5e4b369a57e2d84416a0cf",
      "143c72c10698485fb0c84cd13f386903",
      "3e31b70b7e344d99b770b65670a40c55",
      "559d3b11f6a84602adb413535e4b6376",
      "dcedf7288cf44704b23cd59211db5553",
      "1a65899b14554c9a9d9a76118255b282"
     ]
    },
    "id": "2cKi02IDSwEi",
    "outputId": "bfa97b21-60e3-4bd2-f99d-982128cc54fc"
   },
   "outputs": [
    {
     "data": {
      "application/vnd.jupyter.widget-view+json": {
       "model_id": "bcef26bfbd284505a063eca2ac2c5c99",
       "version_major": 2,
       "version_minor": 0
      },
      "text/plain": [
       "  0%|          | 0/11716 [00:00<?, ?it/s]"
      ]
     },
     "metadata": {},
     "output_type": "display_data"
    }
   ],
   "source": [
    "vector_size = 300\n",
    "gensim_weight_matrix = np.zeros((num_words ,vector_size))\n",
    "gensim_weight_matrix.shape\n",
    "\n",
    "for word, index in tqdm(tokenizer.word_index.items()):\n",
    "    if index < num_words: # since index starts with zero \n",
    "        try:\n",
    "            gensim_weight_matrix[index] = glove_gensim[word]\n",
    "        except:\n",
    "            gensim_weight_matrix[index] = np.zeros(300)"
   ]
  },
  {
   "cell_type": "code",
   "execution_count": null,
   "metadata": {
    "colab": {
     "base_uri": "https://localhost:8080/"
    },
    "id": "T-IzEqKeTNTn",
    "outputId": "7015cd0e-0fe2-4518-d7d1-f4e61d494769"
   },
   "outputs": [
    {
     "data": {
      "text/plain": [
       "(13000, 300)"
      ]
     },
     "execution_count": 34,
     "metadata": {},
     "output_type": "execute_result"
    }
   ],
   "source": [
    "gensim_weight_matrix.shape"
   ]
  },
  {
   "cell_type": "markdown",
   "metadata": {
    "id": "8cr3WDBKUt1h"
   },
   "source": [
    "The rest are the same."
   ]
  },
  {
   "cell_type": "code",
   "execution_count": null,
   "metadata": {
    "id": "HqLBpcgqTQB2"
   },
   "outputs": [],
   "source": [
    "glove = Sequential()\n",
    "glove.add(Embedding(input_dim = num_words,\n",
    "                          output_dim = 300,\n",
    "                          input_length= X_train_pad.shape[1],\n",
    "                          weights = [gensim_weight_matrix],\n",
    "                          trainable = False))\n",
    "glove.add(Dropout(0.2))\n",
    "glove.add(Bidirectional(LSTM(128,return_sequences=True)))\n",
    "glove.add(Dropout(0.2))\n",
    "glove.add(Bidirectional(LSTM(256,return_sequences=True)))\n",
    "glove.add(Dropout(0.2))\n",
    "glove.add(Bidirectional(LSTM(128,return_sequences=False)))\n",
    "glove.add(Dense(64,activation='tanh'))\n",
    "glove.add(Dense(32,activation='tanh'))\n",
    "glove.add(Dense(10,activation='tanh'))\n",
    "glove.add(Dense(3,activation='softmax'))"
   ]
  },
  {
   "cell_type": "code",
   "execution_count": null,
   "metadata": {
    "colab": {
     "base_uri": "https://localhost:8080/"
    },
    "id": "mXFkrlX9TTAf",
    "outputId": "f760b227-edf1-4f21-bc4c-0282388c0886"
   },
   "outputs": [
    {
     "name": "stdout",
     "output_type": "stream",
     "text": [
      "Model: \"sequential_2\"\n",
      "_________________________________________________________________\n",
      " Layer (type)                Output Shape              Param #   \n",
      "=================================================================\n",
      " embedding_2 (Embedding)     (None, 81, 300)           3900000   \n",
      "                                                                 \n",
      " dropout_6 (Dropout)         (None, 81, 300)           0         \n",
      "                                                                 \n",
      " bidirectional_6 (Bidirectio  (None, 81, 256)          439296    \n",
      " nal)                                                            \n",
      "                                                                 \n",
      " dropout_7 (Dropout)         (None, 81, 256)           0         \n",
      "                                                                 \n",
      " bidirectional_7 (Bidirectio  (None, 81, 512)          1050624   \n",
      " nal)                                                            \n",
      "                                                                 \n",
      " dropout_8 (Dropout)         (None, 81, 512)           0         \n",
      "                                                                 \n",
      " bidirectional_8 (Bidirectio  (None, 256)              656384    \n",
      " nal)                                                            \n",
      "                                                                 \n",
      " dense_8 (Dense)             (None, 64)                16448     \n",
      "                                                                 \n",
      " dense_9 (Dense)             (None, 32)                2080      \n",
      "                                                                 \n",
      " dense_10 (Dense)            (None, 10)                330       \n",
      "                                                                 \n",
      " dense_11 (Dense)            (None, 3)                 33        \n",
      "                                                                 \n",
      "=================================================================\n",
      "Total params: 6,065,195\n",
      "Trainable params: 2,165,195\n",
      "Non-trainable params: 3,900,000\n",
      "_________________________________________________________________\n"
     ]
    }
   ],
   "source": [
    "glove.summary()"
   ]
  },
  {
   "cell_type": "code",
   "execution_count": null,
   "metadata": {
    "id": "WGasNvOzTU8Q"
   },
   "outputs": [],
   "source": [
    "glove.compile(optimizer='adam',loss='categorical_crossentropy',metrics=['accuracy'])"
   ]
  },
  {
   "cell_type": "code",
   "execution_count": null,
   "metadata": {
    "colab": {
     "base_uri": "https://localhost:8080/"
    },
    "id": "li2L5SXpTXCa",
    "outputId": "1b6e96ac-ceac-409e-e924-dbe0a2d67b61"
   },
   "outputs": [
    {
     "name": "stdout",
     "output_type": "stream",
     "text": [
      "Epoch 1/20\n",
      "117/117 [==============================] - ETA: 0s - loss: 0.7983 - accuracy: 0.6474\n",
      "Epoch 1: val_accuracy did not improve from 0.81852\n",
      "117/117 [==============================] - 221s 2s/step - loss: 0.7983 - accuracy: 0.6474 - val_loss: 0.7337 - val_accuracy: 0.6757\n",
      "Epoch 2/20\n",
      "117/117 [==============================] - ETA: 0s - loss: 0.6477 - accuracy: 0.7315\n",
      "Epoch 2: val_accuracy did not improve from 0.81852\n",
      "117/117 [==============================] - 228s 2s/step - loss: 0.6477 - accuracy: 0.7315 - val_loss: 0.6720 - val_accuracy: 0.7231\n",
      "Epoch 3/20\n",
      "117/117 [==============================] - ETA: 0s - loss: 0.5749 - accuracy: 0.7637\n",
      "Epoch 3: val_accuracy did not improve from 0.81852\n",
      "117/117 [==============================] - 227s 2s/step - loss: 0.5749 - accuracy: 0.7637 - val_loss: 0.6330 - val_accuracy: 0.7449\n",
      "Epoch 4/20\n",
      "117/117 [==============================] - ETA: 0s - loss: 0.5095 - accuracy: 0.7941\n",
      "Epoch 4: val_accuracy did not improve from 0.81852\n",
      "117/117 [==============================] - 229s 2s/step - loss: 0.5095 - accuracy: 0.7941 - val_loss: 0.5713 - val_accuracy: 0.7474\n",
      "Epoch 5/20\n",
      "117/117 [==============================] - ETA: 0s - loss: 0.4470 - accuracy: 0.8171\n",
      "Epoch 5: val_accuracy did not improve from 0.81852\n",
      "117/117 [==============================] - 227s 2s/step - loss: 0.4470 - accuracy: 0.8171 - val_loss: 0.6025 - val_accuracy: 0.7627\n",
      "Epoch 6/20\n",
      "117/117 [==============================] - ETA: 0s - loss: 0.4025 - accuracy: 0.8357\n",
      "Epoch 6: val_accuracy did not improve from 0.81852\n",
      "117/117 [==============================] - 227s 2s/step - loss: 0.4025 - accuracy: 0.8357 - val_loss: 0.5472 - val_accuracy: 0.7755\n",
      "Epoch 7/20\n",
      "117/117 [==============================] - ETA: 0s - loss: 0.3468 - accuracy: 0.8600\n",
      "Epoch 7: val_accuracy did not improve from 0.81852\n",
      "117/117 [==============================] - 226s 2s/step - loss: 0.3468 - accuracy: 0.8600 - val_loss: 0.5475 - val_accuracy: 0.7923\n",
      "Epoch 8/20\n",
      "117/117 [==============================] - ETA: 0s - loss: 0.3128 - accuracy: 0.8770\n",
      "Epoch 8: val_accuracy did not improve from 0.81852\n",
      "117/117 [==============================] - 227s 2s/step - loss: 0.3128 - accuracy: 0.8770 - val_loss: 0.5517 - val_accuracy: 0.7839\n",
      "Epoch 9/20\n",
      "117/117 [==============================] - ETA: 0s - loss: 0.2839 - accuracy: 0.8889\n",
      "Epoch 9: val_accuracy did not improve from 0.81852\n",
      "117/117 [==============================] - 227s 2s/step - loss: 0.2839 - accuracy: 0.8889 - val_loss: 0.5375 - val_accuracy: 0.7942\n",
      "Epoch 10/20\n",
      "117/117 [==============================] - ETA: 0s - loss: 0.2421 - accuracy: 0.9056\n",
      "Epoch 10: val_accuracy did not improve from 0.81852\n",
      "117/117 [==============================] - 226s 2s/step - loss: 0.2421 - accuracy: 0.9056 - val_loss: 0.5395 - val_accuracy: 0.8110\n",
      "Epoch 11/20\n",
      "117/117 [==============================] - ETA: 0s - loss: 0.2297 - accuracy: 0.9094\n",
      "Epoch 11: val_accuracy did not improve from 0.81852\n",
      "117/117 [==============================] - 206s 2s/step - loss: 0.2297 - accuracy: 0.9094 - val_loss: 0.5605 - val_accuracy: 0.8138\n",
      "Epoch 12/20\n",
      "117/117 [==============================] - ETA: 0s - loss: 0.2121 - accuracy: 0.9162\n",
      "Epoch 12: val_accuracy did not improve from 0.81852\n",
      "117/117 [==============================] - 227s 2s/step - loss: 0.2121 - accuracy: 0.9162 - val_loss: 0.5826 - val_accuracy: 0.8101\n",
      "Epoch 13/20\n",
      "117/117 [==============================] - ETA: 0s - loss: 0.2104 - accuracy: 0.9131\n",
      "Epoch 13: val_accuracy did not improve from 0.81852\n",
      "117/117 [==============================] - 227s 2s/step - loss: 0.2104 - accuracy: 0.9131 - val_loss: 0.6322 - val_accuracy: 0.8014\n",
      "Epoch 14/20\n",
      "117/117 [==============================] - ETA: 0s - loss: 0.1900 - accuracy: 0.9211\n",
      "Epoch 14: val_accuracy did not improve from 0.81852\n",
      "117/117 [==============================] - 228s 2s/step - loss: 0.1900 - accuracy: 0.9211 - val_loss: 0.6026 - val_accuracy: 0.8107\n",
      "Epoch 14: early stopping\n"
     ]
    }
   ],
   "source": [
    "glove_history = glove.fit(X_train_pad,y_train, epochs = 20, batch_size = 64, validation_data=(X_test_pad, y_test),verbose = 1, callbacks= [es, mc])"
   ]
  },
  {
   "cell_type": "code",
   "execution_count": null,
   "metadata": {
    "colab": {
     "base_uri": "https://localhost:8080/",
     "height": 449
    },
    "id": "IRA6oXJoTePh",
    "outputId": "62e92961-37ba-4388-804b-eaf6c9e20878"
   },
   "outputs": [
    {
     "data": {
      "image/png": "[encoded data removed]",
      "text/plain": [
       "<Figure size 640x480 with 1 Axes>"
      ]
     },
     "metadata": {},
     "output_type": "display_data"
    }
   ],
   "source": [
    "plt.plot(glove_history.history['accuracy'], label='Train Data')\n",
    "plt.plot(glove_history.history['val_accuracy'], label='Test Data')\n",
    "plt.xlabel('Epoch')\n",
    "plt.ylabel('Accuracy')\n",
    "#plt.ylim([0.98, 1])\n",
    "plt.legend(loc='best')\n",
    "plt.show()"
   ]
  },
  {
   "cell_type": "code",
   "execution_count": null,
   "metadata": {
    "colab": {
     "base_uri": "https://localhost:8080/",
     "height": 449
    },
    "id": "w4czF5g8Te93",
    "outputId": "6f2bd737-105b-46dd-ff7f-f7c4dc5b44e5"
   },
   "outputs": [
    {
     "data": {
      "image/png": "[encoded data removed]",
      "text/plain": [
       "<Figure size 640x480 with 1 Axes>"
      ]
     },
     "metadata": {},
     "output_type": "display_data"
    }
   ],
   "source": [
    "plt.plot(glove_history.history['loss'], label='Train loss')\n",
    "plt.plot(glove_history.history['val_loss'], label='Test loss')\n",
    "plt.xlabel('Epoch')\n",
    "plt.ylabel('Loss')\n",
    "plt.legend(loc='best')\n",
    "plt.show()"
   ]
  },
  {
   "cell_type": "code",
   "execution_count": null,
   "metadata": {
    "colab": {
     "base_uri": "https://localhost:8080/"
    },
    "id": "gPqdAYwDTg70",
    "outputId": "30c73de5-f92a-4884-b1e8-0afdba078afb"
   },
   "outputs": [
    {
     "name": "stdout",
     "output_type": "stream",
     "text": [
      "101/101 [==============================] - 30s 279ms/step\n",
      "              precision    recall  f1-score   support\n",
      "\n",
      "    positive       0.81      0.85      0.83       965\n",
      "    negative       0.56      0.64      0.60       439\n",
      "     neutral       0.88      0.83      0.86      1803\n",
      "\n",
      "    accuracy                           0.81      3207\n",
      "   macro avg       0.75      0.77      0.76      3207\n",
      "weighted avg       0.82      0.81      0.81      3207\n",
      "\n"
     ]
    }
   ],
   "source": [
    "predictions = glove.predict(X_test_pad)\n",
    "target_names=['positive','negative','neutral']\n",
    "print(classification_report(np.argmax(y_test,axis=1),np.argmax(predictions,axis=1),target_names=target_names))"
   ]
  },
  {
   "cell_type": "markdown",
   "metadata": {
    "id": "HzbhWLMhUzMT"
   },
   "source": [
    "# **Fasttext embedding + LSTM**\n",
    "Download Fasttext vector."
   ]
  },
  {
   "cell_type": "code",
   "execution_count": null,
   "metadata": {
    "colab": {
     "base_uri": "https://localhost:8080/"
    },
    "id": "0YdvMPJLTiuk",
    "outputId": "bc0eb5b9-7efd-4331-8fd7-caa02d54aa09"
   },
   "outputs": [
    {
     "name": "stdout",
     "output_type": "stream",
     "text": [
      "[==================================================] 100.0% 958.5/958.4MB downloaded\n"
     ]
    }
   ],
   "source": [
    "import gensim.downloader as api\n",
    "glove_gensim1  = api.load('fasttext-wiki-news-subwords-300')"
   ]
  },
  {
   "cell_type": "code",
   "execution_count": null,
   "metadata": {
    "colab": {
     "base_uri": "https://localhost:8080/",
     "height": 49,
     "referenced_widgets": [
      "ca398757171d46b09af17250059b1bef",
      "dba6ea3b19dd4d5fb6a043fa2e0e3be3",
      "bfdffc17fb9d48a2a5c3ae5b0b497428",
      "7018628217ef47c7abc6471359c43073",
      "82ef22a869c14c4e8a4893e6520e8f68",
      "6188cf5a532a401fb8bbe1e3925d4b39",
      "d26c7d4806aa41e69e63f757f724a29f",
      "8f342e3931604056913d2d7b54918786",
      "42ad5dd102a747d886188be9034a37a3",
      "ce0476edd2334c809dc5cc82ee42a1b8",
      "22f96c6849ff4bfc982d5d643334255d"
     ]
    },
    "id": "epUfDEjZ4A_u",
    "outputId": "398ac0ef-c53e-4240-81fa-608677bb82a3"
   },
   "outputs": [
    {
     "data": {
      "application/vnd.jupyter.widget-view+json": {
       "model_id": "ca398757171d46b09af17250059b1bef",
       "version_major": 2,
       "version_minor": 0
      },
      "text/plain": [
       "  0%|          | 0/11716 [00:00<?, ?it/s]"
      ]
     },
     "metadata": {},
     "output_type": "display_data"
    }
   ],
   "source": [
    "vector_size = 300\n",
    "gensim_weight_matrix1 = np.zeros((num_words ,vector_size))\n",
    "gensim_weight_matrix1.shape\n",
    "\n",
    "for word, index in tqdm(tokenizer.word_index.items()):\n",
    "    if index < num_words: # since index starts with zero \n",
    "        try:\n",
    "            gensim_weight_matrix1[index] = glove_gensim1[word]\n",
    "        except:\n",
    "            gensim_weight_matrix1[index] = np.zeros(300)"
   ]
  },
  {
   "cell_type": "code",
   "execution_count": null,
   "metadata": {
    "id": "DWYkDMr48CNz"
   },
   "outputs": [],
   "source": [
    "ftext = Sequential()\n",
    "ftext.add(Embedding(input_dim = num_words,\n",
    "                          output_dim = 300,\n",
    "                          input_length= X_train_pad.shape[1],\n",
    "                          weights = [gensim_weight_matrix1],\n",
    "                          trainable = False))\n",
    "ftext.add(Dropout(0.2))\n",
    "ftext.add(Bidirectional(LSTM(128,return_sequences=True)))\n",
    "ftext.add(Dropout(0.2))\n",
    "ftext.add(Bidirectional(LSTM(256,return_sequences=True)))\n",
    "ftext.add(Dropout(0.2))\n",
    "ftext.add(Bidirectional(LSTM(128,return_sequences=False)))\n",
    "ftext.add(Dense(64,activation='tanh'))\n",
    "ftext.add(Dense(32,activation='tanh'))\n",
    "ftext.add(Dense(10,activation='tanh'))\n",
    "ftext.add(Dense(3,activation='softmax'))"
   ]
  },
  {
   "cell_type": "code",
   "execution_count": null,
   "metadata": {
    "colab": {
     "base_uri": "https://localhost:8080/"
    },
    "id": "aEc-k1dv8JGt",
    "outputId": "0f7b91c2-0080-4b2b-f5d1-fca92dd3337f"
   },
   "outputs": [
    {
     "name": "stdout",
     "output_type": "stream",
     "text": [
      "Model: \"sequential_4\"\n",
      "_________________________________________________________________\n",
      " Layer (type)                Output Shape              Param #   \n",
      "=================================================================\n",
      " embedding_4 (Embedding)     (None, 81, 300)           3900000   \n",
      "                                                                 \n",
      " dropout_12 (Dropout)        (None, 81, 300)           0         \n",
      "                                                                 \n",
      " bidirectional_12 (Bidirecti  (None, 81, 256)          439296    \n",
      " onal)                                                           \n",
      "                                                                 \n",
      " dropout_13 (Dropout)        (None, 81, 256)           0         \n",
      "                                                                 \n",
      " bidirectional_13 (Bidirecti  (None, 81, 512)          1050624   \n",
      " onal)                                                           \n",
      "                                                                 \n",
      " dropout_14 (Dropout)        (None, 81, 512)           0         \n",
      "                                                                 \n",
      " bidirectional_14 (Bidirecti  (None, 256)              656384    \n",
      " onal)                                                           \n",
      "                                                                 \n",
      " dense_16 (Dense)            (None, 64)                16448     \n",
      "                                                                 \n",
      " dense_17 (Dense)            (None, 32)                2080      \n",
      "                                                                 \n",
      " dense_18 (Dense)            (None, 10)                330       \n",
      "                                                                 \n",
      " dense_19 (Dense)            (None, 3)                 33        \n",
      "                                                                 \n",
      "=================================================================\n",
      "Total params: 6,065,195\n",
      "Trainable params: 2,165,195\n",
      "Non-trainable params: 3,900,000\n",
      "_________________________________________________________________\n"
     ]
    }
   ],
   "source": [
    "ftext.summary()"
   ]
  },
  {
   "cell_type": "code",
   "execution_count": null,
   "metadata": {
    "id": "vIkZvva38J9R"
   },
   "outputs": [],
   "source": [
    "ftext.compile(optimizer='adam',loss='categorical_crossentropy',metrics=['accuracy'])"
   ]
  },
  {
   "cell_type": "code",
   "execution_count": null,
   "metadata": {
    "colab": {
     "base_uri": "https://localhost:8080/"
    },
    "id": "VYlmCpd58MoX",
    "outputId": "aa51c18a-7665-41ba-aba1-32b9b7e161e1"
   },
   "outputs": [
    {
     "name": "stdout",
     "output_type": "stream",
     "text": [
      "Epoch 1/20\n",
      "117/117 [==============================] - ETA: 0s - loss: 0.8577 - accuracy: 0.6025\n",
      "Epoch 1: val_accuracy did not improve from 0.81852\n",
      "117/117 [==============================] - 250s 2s/step - loss: 0.8577 - accuracy: 0.6025 - val_loss: 0.7757 - val_accuracy: 0.6539\n",
      "Epoch 2/20\n",
      "117/117 [==============================] - ETA: 0s - loss: 0.7462 - accuracy: 0.6643\n",
      "Epoch 2: val_accuracy did not improve from 0.81852\n",
      "117/117 [==============================] - 210s 2s/step - loss: 0.7462 - accuracy: 0.6643 - val_loss: 0.7128 - val_accuracy: 0.6913\n",
      "Epoch 3/20\n",
      "117/117 [==============================] - ETA: 0s - loss: 0.6932 - accuracy: 0.6905\n",
      "Epoch 3: val_accuracy did not improve from 0.81852\n",
      "117/117 [==============================] - 210s 2s/step - loss: 0.6932 - accuracy: 0.6905 - val_loss: 0.6799 - val_accuracy: 0.7016\n",
      "Epoch 4/20\n",
      "117/117 [==============================] - ETA: 0s - loss: 0.6545 - accuracy: 0.7114\n",
      "Epoch 4: val_accuracy did not improve from 0.81852\n",
      "117/117 [==============================] - 230s 2s/step - loss: 0.6545 - accuracy: 0.7114 - val_loss: 0.6578 - val_accuracy: 0.7206\n",
      "Epoch 5/20\n",
      "117/117 [==============================] - ETA: 0s - loss: 0.6333 - accuracy: 0.7234\n",
      "Epoch 5: val_accuracy did not improve from 0.81852\n",
      "117/117 [==============================] - 230s 2s/step - loss: 0.6333 - accuracy: 0.7234 - val_loss: 0.6502 - val_accuracy: 0.7106\n",
      "Epoch 6/20\n",
      "117/117 [==============================] - ETA: 0s - loss: 0.6114 - accuracy: 0.7311\n",
      "Epoch 6: val_accuracy did not improve from 0.81852\n",
      "117/117 [==============================] - 212s 2s/step - loss: 0.6114 - accuracy: 0.7311 - val_loss: 0.6404 - val_accuracy: 0.7312\n",
      "Epoch 7/20\n",
      "117/117 [==============================] - ETA: 0s - loss: 0.5789 - accuracy: 0.7524\n",
      "Epoch 7: val_accuracy did not improve from 0.81852\n",
      "117/117 [==============================] - 230s 2s/step - loss: 0.5789 - accuracy: 0.7524 - val_loss: 0.6281 - val_accuracy: 0.7300\n",
      "Epoch 8/20\n",
      "117/117 [==============================] - ETA: 0s - loss: 0.5520 - accuracy: 0.7594\n",
      "Epoch 8: val_accuracy did not improve from 0.81852\n",
      "117/117 [==============================] - 212s 2s/step - loss: 0.5520 - accuracy: 0.7594 - val_loss: 0.6175 - val_accuracy: 0.7415\n",
      "Epoch 9/20\n",
      "117/117 [==============================] - ETA: 0s - loss: 0.5241 - accuracy: 0.7768\n",
      "Epoch 9: val_accuracy did not improve from 0.81852\n",
      "117/117 [==============================] - 230s 2s/step - loss: 0.5241 - accuracy: 0.7768 - val_loss: 0.5861 - val_accuracy: 0.7481\n",
      "Epoch 10/20\n",
      "117/117 [==============================] - ETA: 0s - loss: 0.5001 - accuracy: 0.7884\n",
      "Epoch 10: val_accuracy did not improve from 0.81852\n",
      "117/117 [==============================] - 230s 2s/step - loss: 0.5001 - accuracy: 0.7884 - val_loss: 0.5667 - val_accuracy: 0.7624\n",
      "Epoch 11/20\n",
      "117/117 [==============================] - ETA: 0s - loss: 0.4830 - accuracy: 0.7951\n",
      "Epoch 11: val_accuracy did not improve from 0.81852\n",
      "117/117 [==============================] - 211s 2s/step - loss: 0.4830 - accuracy: 0.7951 - val_loss: 0.5810 - val_accuracy: 0.7540\n",
      "Epoch 12/20\n",
      "117/117 [==============================] - ETA: 0s - loss: 0.4655 - accuracy: 0.8042\n",
      "Epoch 12: val_accuracy did not improve from 0.81852\n",
      "117/117 [==============================] - 231s 2s/step - loss: 0.4655 - accuracy: 0.8042 - val_loss: 0.5669 - val_accuracy: 0.7643\n",
      "Epoch 13/20\n",
      "117/117 [==============================] - ETA: 0s - loss: 0.4412 - accuracy: 0.8170\n",
      "Epoch 13: val_accuracy did not improve from 0.81852\n",
      "117/117 [==============================] - 230s 2s/step - loss: 0.4412 - accuracy: 0.8170 - val_loss: 0.5915 - val_accuracy: 0.7599\n",
      "Epoch 14/20\n",
      "117/117 [==============================] - ETA: 0s - loss: 0.4210 - accuracy: 0.8226\n",
      "Epoch 14: val_accuracy did not improve from 0.81852\n",
      "117/117 [==============================] - 229s 2s/step - loss: 0.4210 - accuracy: 0.8226 - val_loss: 0.5892 - val_accuracy: 0.7761\n",
      "Epoch 15/20\n",
      "117/117 [==============================] - ETA: 0s - loss: 0.4032 - accuracy: 0.8318\n",
      "Epoch 15: val_accuracy did not improve from 0.81852\n",
      "117/117 [==============================] - 230s 2s/step - loss: 0.4032 - accuracy: 0.8318 - val_loss: 0.5746 - val_accuracy: 0.7736\n",
      "Epoch 15: early stopping\n"
     ]
    }
   ],
   "source": [
    "ftext_history = ftext.fit(X_train_pad,y_train, epochs = 20, batch_size = 64, validation_data=(X_test_pad, y_test),verbose = 1, callbacks= [es, mc])"
   ]
  },
  {
   "cell_type": "code",
   "execution_count": null,
   "metadata": {
    "colab": {
     "base_uri": "https://localhost:8080/",
     "height": 449
    },
    "id": "4yjZfLEu8VLf",
    "outputId": "c3ee608d-97ae-421d-ce3c-ecd39e6ca338"
   },
   "outputs": [
    {
     "data": {
      "image/png": "[encoded data removed]",
      "text/plain": [
       "<Figure size 640x480 with 1 Axes>"
      ]
     },
     "metadata": {},
     "output_type": "display_data"
    }
   ],
   "source": [
    "plt.plot(ftext_history.history['accuracy'], label='Train Data')\n",
    "plt.plot(ftext_history.history['val_accuracy'], label='Test Data')\n",
    "plt.xlabel('Epoch')\n",
    "plt.ylabel('Accuracy')\n",
    "#plt.ylim([0.8, 1])\n",
    "plt.legend(loc='best')\n",
    "plt.show()"
   ]
  },
  {
   "cell_type": "code",
   "execution_count": null,
   "metadata": {
    "colab": {
     "base_uri": "https://localhost:8080/",
     "height": 449
    },
    "id": "59YLTRry8lo2",
    "outputId": "efe43d56-71f6-4ba1-9b5e-4656cb2cc888"
   },
   "outputs": [
    {
     "data": {
      "image/png": "[encoded data removed]",
      "text/plain": [
       "<Figure size 640x480 with 1 Axes>"
      ]
     },
     "metadata": {},
     "output_type": "display_data"
    }
   ],
   "source": [
    "plt.plot(ftext_history.history['loss'], label='Train loss')\n",
    "plt.plot(ftext_history.history['val_loss'], label='Test loss')\n",
    "plt.xlabel('Epoch')\n",
    "plt.ylabel('Loss')\n",
    "plt.legend(loc='best')\n",
    "plt.show()"
   ]
  },
  {
   "cell_type": "code",
   "execution_count": null,
   "metadata": {
    "colab": {
     "base_uri": "https://localhost:8080/"
    },
    "id": "5VxkGZtQ8oOx",
    "outputId": "10dc6d4f-b3df-496d-c5bb-8ee683e388e5"
   },
   "outputs": [
    {
     "name": "stdout",
     "output_type": "stream",
     "text": [
      "101/101 [==============================] - 30s 277ms/step\n",
      "              precision    recall  f1-score   support\n",
      "\n",
      "    positive       0.84      0.70      0.77       965\n",
      "    negative       0.57      0.53      0.55       439\n",
      "     neutral       0.79      0.87      0.83      1803\n",
      "\n",
      "    accuracy                           0.77      3207\n",
      "   macro avg       0.73      0.70      0.71      3207\n",
      "weighted avg       0.77      0.77      0.77      3207\n",
      "\n"
     ]
    }
   ],
   "source": [
    "predictions = ftext.predict(X_test_pad)\n",
    "target_names=['positive','negative','neutral']\n",
    "print(classification_report(np.argmax(y_test,axis=1),np.argmax(predictions,axis=1),target_names=target_names))"
   ]
  }
 ],
 "metadata": {
  "colab": {
   "provenance": []
  },
  "kernelspec": {
   "display_name": "Python 3 (ipykernel)",
   "language": "python",
   "name": "python3"
  },
  "language_info": {
   "codemirror_mode": {
    "name": "ipython",
    "version": 3
   },
   "file_extension": ".py",
   "mimetype": "text/x-python",
   "name": "python",
   "nbconvert_exporter": "python",
   "pygments_lexer": "ipython3",
   "version": "3.8.16"
  },
  "widgets": {
   "application/vnd.jupyter.widget-state+json": {
    "0171757e063c4b6787239eab2bf62712": {
     "model_module": "@jupyter-widgets/base",
     "model_module_version": "1.2.0",
     "model_name": "LayoutModel",
     "state": {
      "_model_module": "@jupyter-widgets/base",
      "_model_module_version": "1.2.0",
      "_model_name": "LayoutModel",
      "_view_count": null,
      "_view_module": "@jupyter-widgets/base",
      "_view_module_version": "1.2.0",
      "_view_name": "LayoutView",
      "align_content": null,
      "align_items": null,
      "align_self": null,
      "border": null,
      "bottom": null,
      "display": null,
      "flex": null,
      "flex_flow": null,
      "grid_area": null,
      "grid_auto_columns": null,
      "grid_auto_flow": null,
      "grid_auto_rows": null,
      "grid_column": null,
      "grid_gap": null,
      "grid_row": null,
      "grid_template_areas": null,
      "grid_template_columns": null,
      "grid_template_rows": null,
      "height": null,
      "justify_content": null,
      "justify_items": null,
      "left": null,
      "margin": null,
      "max_height": null,
      "max_width": null,
      "min_height": null,
      "min_width": null,
      "object_fit": null,
      "object_position": null,
      "order": null,
      "overflow": null,
      "overflow_x": null,
      "overflow_y": null,
      "padding": null,
      "right": null,
      "top": null,
      "visibility": null,
      "width": null
     }
    },
    "030c887b5f5e4b369a57e2d84416a0cf": {
     "model_module": "@jupyter-widgets/base",
     "model_module_version": "1.2.0",
     "model_name": "LayoutModel",
     "state": {
      "_model_module": "@jupyter-widgets/base",
      "_model_module_version": "1.2.0",
      "_model_name": "LayoutModel",
      "_view_count": null,
      "_view_module": "@jupyter-widgets/base",
      "_view_module_version": "1.2.0",
      "_view_name": "LayoutView",
      "align_content": null,
      "align_items": null,
      "align_self": null,
      "border": null,
      "bottom": null,
      "display": null,
      "flex": null,
      "flex_flow": null,
      "grid_area": null,
      "grid_auto_columns": null,
      "grid_auto_flow": null,
      "grid_auto_rows": null,
      "grid_column": null,
      "grid_gap": null,
      "grid_row": null,
      "grid_template_areas": null,
      "grid_template_columns": null,
      "grid_template_rows": null,
      "height": null,
      "justify_content": null,
      "justify_items": null,
      "left": null,
      "margin": null,
      "max_height": null,
      "max_width": null,
      "min_height": null,
      "min_width": null,
      "object_fit": null,
      "object_position": null,
      "order": null,
      "overflow": null,
      "overflow_x": null,
      "overflow_y": null,
      "padding": null,
      "right": null,
      "top": null,
      "visibility": null,
      "width": null
     }
    },
    "03ba2a4502f74d6eb9e8331d244b36cc": {
     "model_module": "@jupyter-widgets/base",
     "model_module_version": "1.2.0",
     "model_name": "LayoutModel",
     "state": {
      "_model_module": "@jupyter-widgets/base",
      "_model_module_version": "1.2.0",
      "_model_name": "LayoutModel",
      "_view_count": null,
      "_view_module": "@jupyter-widgets/base",
      "_view_module_version": "1.2.0",
      "_view_name": "LayoutView",
      "align_content": null,
      "align_items": null,
      "align_self": null,
      "border": null,
      "bottom": null,
      "display": null,
      "flex": null,
      "flex_flow": null,
      "grid_area": null,
      "grid_auto_columns": null,
      "grid_auto_flow": null,
      "grid_auto_rows": null,
      "grid_column": null,
      "grid_gap": null,
      "grid_row": null,
      "grid_template_areas": null,
      "grid_template_columns": null,
      "grid_template_rows": null,
      "height": null,
      "justify_content": null,
      "justify_items": null,
      "left": null,
      "margin": null,
      "max_height": null,
      "max_width": null,
      "min_height": null,
      "min_width": null,
      "object_fit": null,
      "object_position": null,
      "order": null,
      "overflow": null,
      "overflow_x": null,
      "overflow_y": null,
      "padding": null,
      "right": null,
      "top": null,
      "visibility": null,
      "width": null
     }
    },
    "13e04dcf48b8474794a5fcc2e594a326": {
     "model_module": "@jupyter-widgets/controls",
     "model_module_version": "1.5.0",
     "model_name": "FloatProgressModel",
     "state": {
      "_dom_classes": [],
      "_model_module": "@jupyter-widgets/controls",
      "_model_module_version": "1.5.0",
      "_model_name": "FloatProgressModel",
      "_view_count": null,
      "_view_module": "@jupyter-widgets/controls",
      "_view_module_version": "1.5.0",
      "_view_name": "ProgressView",
      "bar_style": "success",
      "description": "",
      "description_tooltip": null,
      "layout": "IPY_MODEL_28a66ce6e8d14f8b9e792b467dc4c5eb",
      "max": 10688,
      "min": 0,
      "orientation": "horizontal",
      "style": "IPY_MODEL_9ca955d3ed084e85b5d7221e89ed5d63",
      "value": 10688
     }
    },
    "143c72c10698485fb0c84cd13f386903": {
     "model_module": "@jupyter-widgets/controls",
     "model_module_version": "1.5.0",
     "model_name": "DescriptionStyleModel",
     "state": {
      "_model_module": "@jupyter-widgets/controls",
      "_model_module_version": "1.5.0",
      "_model_name": "DescriptionStyleModel",
      "_view_count": null,
      "_view_module": "@jupyter-widgets/base",
      "_view_module_version": "1.2.0",
      "_view_name": "StyleView",
      "description_width": ""
     }
    },
    "1a65899b14554c9a9d9a76118255b282": {
     "model_module": "@jupyter-widgets/controls",
     "model_module_version": "1.5.0",
     "model_name": "DescriptionStyleModel",
     "state": {
      "_model_module": "@jupyter-widgets/controls",
      "_model_module_version": "1.5.0",
      "_model_name": "DescriptionStyleModel",
      "_view_count": null,
      "_view_module": "@jupyter-widgets/base",
      "_view_module_version": "1.2.0",
      "_view_name": "StyleView",
      "description_width": ""
     }
    },
    "1f9e64ac782443a2abc8d837e7b451fc": {
     "model_module": "@jupyter-widgets/controls",
     "model_module_version": "1.5.0",
     "model_name": "FloatProgressModel",
     "state": {
      "_dom_classes": [],
      "_model_module": "@jupyter-widgets/controls",
      "_model_module_version": "1.5.0",
      "_model_name": "FloatProgressModel",
      "_view_count": null,
      "_view_module": "@jupyter-widgets/controls",
      "_view_module_version": "1.5.0",
      "_view_name": "ProgressView",
      "bar_style": "success",
      "description": "",
      "description_tooltip": null,
      "layout": "IPY_MODEL_3e31b70b7e344d99b770b65670a40c55",
      "max": 11716,
      "min": 0,
      "orientation": "horizontal",
      "style": "IPY_MODEL_559d3b11f6a84602adb413535e4b6376",
      "value": 11716
     }
    },
    "22f96c6849ff4bfc982d5d643334255d": {
     "model_module": "@jupyter-widgets/controls",
     "model_module_version": "1.5.0",
     "model_name": "DescriptionStyleModel",
     "state": {
      "_model_module": "@jupyter-widgets/controls",
      "_model_module_version": "1.5.0",
      "_model_name": "DescriptionStyleModel",
      "_view_count": null,
      "_view_module": "@jupyter-widgets/base",
      "_view_module_version": "1.2.0",
      "_view_name": "StyleView",
      "description_width": ""
     }
    },
    "28a66ce6e8d14f8b9e792b467dc4c5eb": {
     "model_module": "@jupyter-widgets/base",
     "model_module_version": "1.2.0",
     "model_name": "LayoutModel",
     "state": {
      "_model_module": "@jupyter-widgets/base",
      "_model_module_version": "1.2.0",
      "_model_name": "LayoutModel",
      "_view_count": null,
      "_view_module": "@jupyter-widgets/base",
      "_view_module_version": "1.2.0",
      "_view_name": "LayoutView",
      "align_content": null,
      "align_items": null,
      "align_self": null,
      "border": null,
      "bottom": null,
      "display": null,
      "flex": null,
      "flex_flow": null,
      "grid_area": null,
      "grid_auto_columns": null,
      "grid_auto_flow": null,
      "grid_auto_rows": null,
      "grid_column": null,
      "grid_gap": null,
      "grid_row": null,
      "grid_template_areas": null,
      "grid_template_columns": null,
      "grid_template_rows": null,
      "height": null,
      "justify_content": null,
      "justify_items": null,
      "left": null,
      "margin": null,
      "max_height": null,
      "max_width": null,
      "min_height": null,
      "min_width": null,
      "object_fit": null,
      "object_position": null,
      "order": null,
      "overflow": null,
      "overflow_x": null,
      "overflow_y": null,
      "padding": null,
      "right": null,
      "top": null,
      "visibility": null,
      "width": null
     }
    },
    "3e31b70b7e344d99b770b65670a40c55": {
     "model_module": "@jupyter-widgets/base",
     "model_module_version": "1.2.0",
     "model_name": "LayoutModel",
     "state": {
      "_model_module": "@jupyter-widgets/base",
      "_model_module_version": "1.2.0",
      "_model_name": "LayoutModel",
      "_view_count": null,
      "_view_module": "@jupyter-widgets/base",
      "_view_module_version": "1.2.0",
      "_view_name": "LayoutView",
      "align_content": null,
      "align_items": null,
      "align_self": null,
      "border": null,
      "bottom": null,
      "display": null,
      "flex": null,
      "flex_flow": null,
      "grid_area": null,
      "grid_auto_columns": null,
      "grid_auto_flow": null,
      "grid_auto_rows": null,
      "grid_column": null,
      "grid_gap": null,
      "grid_row": null,
      "grid_template_areas": null,
      "grid_template_columns": null,
      "grid_template_rows": null,
      "height": null,
      "justify_content": null,
      "justify_items": null,
      "left": null,
      "margin": null,
      "max_height": null,
      "max_width": null,
      "min_height": null,
      "min_width": null,
      "object_fit": null,
      "object_position": null,
      "order": null,
      "overflow": null,
      "overflow_x": null,
      "overflow_y": null,
      "padding": null,
      "right": null,
      "top": null,
      "visibility": null,
      "width": null
     }
    },
    "42ad5dd102a747d886188be9034a37a3": {
     "model_module": "@jupyter-widgets/controls",
     "model_module_version": "1.5.0",
     "model_name": "ProgressStyleModel",
     "state": {
      "_model_module": "@jupyter-widgets/controls",
      "_model_module_version": "1.5.0",
      "_model_name": "ProgressStyleModel",
      "_view_count": null,
      "_view_module": "@jupyter-widgets/base",
      "_view_module_version": "1.2.0",
      "_view_name": "StyleView",
      "bar_color": null,
      "description_width": ""
     }
    },
    "471b260120db4e0ca7675e985f844022": {
     "model_module": "@jupyter-widgets/controls",
     "model_module_version": "1.5.0",
     "model_name": "HTMLModel",
     "state": {
      "_dom_classes": [],
      "_model_module": "@jupyter-widgets/controls",
      "_model_module_version": "1.5.0",
      "_model_name": "HTMLModel",
      "_view_count": null,
      "_view_module": "@jupyter-widgets/controls",
      "_view_module_version": "1.5.0",
      "_view_name": "HTMLView",
      "description": "",
      "description_tooltip": null,
      "layout": "IPY_MODEL_f63b5f970fac4515a48ccc3178d4efef",
      "placeholder": "​",
      "style": "IPY_MODEL_725f3dc2a15743f3adfcc72a0dfb15e0",
      "value": "100%"
     }
    },
    "559d3b11f6a84602adb413535e4b6376": {
     "model_module": "@jupyter-widgets/controls",
     "model_module_version": "1.5.0",
     "model_name": "ProgressStyleModel",
     "state": {
      "_model_module": "@jupyter-widgets/controls",
      "_model_module_version": "1.5.0",
      "_model_name": "ProgressStyleModel",
      "_view_count": null,
      "_view_module": "@jupyter-widgets/base",
      "_view_module_version": "1.2.0",
      "_view_name": "StyleView",
      "bar_color": null,
      "description_width": ""
     }
    },
    "59b0edb02ee643c6bd9c7a033b8b2e86": {
     "model_module": "@jupyter-widgets/base",
     "model_module_version": "1.2.0",
     "model_name": "LayoutModel",
     "state": {
      "_model_module": "@jupyter-widgets/base",
      "_model_module_version": "1.2.0",
      "_model_name": "LayoutModel",
      "_view_count": null,
      "_view_module": "@jupyter-widgets/base",
      "_view_module_version": "1.2.0",
      "_view_name": "LayoutView",
      "align_content": null,
      "align_items": null,
      "align_self": null,
      "border": null,
      "bottom": null,
      "display": null,
      "flex": null,
      "flex_flow": null,
      "grid_area": null,
      "grid_auto_columns": null,
      "grid_auto_flow": null,
      "grid_auto_rows": null,
      "grid_column": null,
      "grid_gap": null,
      "grid_row": null,
      "grid_template_areas": null,
      "grid_template_columns": null,
      "grid_template_rows": null,
      "height": null,
      "justify_content": null,
      "justify_items": null,
      "left": null,
      "margin": null,
      "max_height": null,
      "max_width": null,
      "min_height": null,
      "min_width": null,
      "object_fit": null,
      "object_position": null,
      "order": null,
      "overflow": null,
      "overflow_x": null,
      "overflow_y": null,
      "padding": null,
      "right": null,
      "top": null,
      "visibility": null,
      "width": null
     }
    },
    "6188cf5a532a401fb8bbe1e3925d4b39": {
     "model_module": "@jupyter-widgets/base",
     "model_module_version": "1.2.0",
     "model_name": "LayoutModel",
     "state": {
      "_model_module": "@jupyter-widgets/base",
      "_model_module_version": "1.2.0",
      "_model_name": "LayoutModel",
      "_view_count": null,
      "_view_module": "@jupyter-widgets/base",
      "_view_module_version": "1.2.0",
      "_view_name": "LayoutView",
      "align_content": null,
      "align_items": null,
      "align_self": null,
      "border": null,
      "bottom": null,
      "display": null,
      "flex": null,
      "flex_flow": null,
      "grid_area": null,
      "grid_auto_columns": null,
      "grid_auto_flow": null,
      "grid_auto_rows": null,
      "grid_column": null,
      "grid_gap": null,
      "grid_row": null,
      "grid_template_areas": null,
      "grid_template_columns": null,
      "grid_template_rows": null,
      "height": null,
      "justify_content": null,
      "justify_items": null,
      "left": null,
      "margin": null,
      "max_height": null,
      "max_width": null,
      "min_height": null,
      "min_width": null,
      "object_fit": null,
      "object_position": null,
      "order": null,
      "overflow": null,
      "overflow_x": null,
      "overflow_y": null,
      "padding": null,
      "right": null,
      "top": null,
      "visibility": null,
      "width": null
     }
    },
    "7018628217ef47c7abc6471359c43073": {
     "model_module": "@jupyter-widgets/controls",
     "model_module_version": "1.5.0",
     "model_name": "HTMLModel",
     "state": {
      "_dom_classes": [],
      "_model_module": "@jupyter-widgets/controls",
      "_model_module_version": "1.5.0",
      "_model_name": "HTMLModel",
      "_view_count": null,
      "_view_module": "@jupyter-widgets/controls",
      "_view_module_version": "1.5.0",
      "_view_name": "HTMLView",
      "description": "",
      "description_tooltip": null,
      "layout": "IPY_MODEL_ce0476edd2334c809dc5cc82ee42a1b8",
      "placeholder": "​",
      "style": "IPY_MODEL_22f96c6849ff4bfc982d5d643334255d",
      "value": " 11716/11716 [00:00&lt;00:00, 123299.98it/s]"
     }
    },
    "725f3dc2a15743f3adfcc72a0dfb15e0": {
     "model_module": "@jupyter-widgets/controls",
     "model_module_version": "1.5.0",
     "model_name": "DescriptionStyleModel",
     "state": {
      "_model_module": "@jupyter-widgets/controls",
      "_model_module_version": "1.5.0",
      "_model_name": "DescriptionStyleModel",
      "_view_count": null,
      "_view_module": "@jupyter-widgets/base",
      "_view_module_version": "1.2.0",
      "_view_name": "StyleView",
      "description_width": ""
     }
    },
    "82ef22a869c14c4e8a4893e6520e8f68": {
     "model_module": "@jupyter-widgets/base",
     "model_module_version": "1.2.0",
     "model_name": "LayoutModel",
     "state": {
      "_model_module": "@jupyter-widgets/base",
      "_model_module_version": "1.2.0",
      "_model_name": "LayoutModel",
      "_view_count": null,
      "_view_module": "@jupyter-widgets/base",
      "_view_module_version": "1.2.0",
      "_view_name": "LayoutView",
      "align_content": null,
      "align_items": null,
      "align_self": null,
      "border": null,
      "bottom": null,
      "display": null,
      "flex": null,
      "flex_flow": null,
      "grid_area": null,
      "grid_auto_columns": null,
      "grid_auto_flow": null,
      "grid_auto_rows": null,
      "grid_column": null,
      "grid_gap": null,
      "grid_row": null,
      "grid_template_areas": null,
      "grid_template_columns": null,
      "grid_template_rows": null,
      "height": null,
      "justify_content": null,
      "justify_items": null,
      "left": null,
      "margin": null,
      "max_height": null,
      "max_width": null,
      "min_height": null,
      "min_width": null,
      "object_fit": null,
      "object_position": null,
      "order": null,
      "overflow": null,
      "overflow_x": null,
      "overflow_y": null,
      "padding": null,
      "right": null,
      "top": null,
      "visibility": null,
      "width": null
     }
    },
    "8988fdcd4958477b96d46be163360520": {
     "model_module": "@jupyter-widgets/controls",
     "model_module_version": "1.5.0",
     "model_name": "HTMLModel",
     "state": {
      "_dom_classes": [],
      "_model_module": "@jupyter-widgets/controls",
      "_model_module_version": "1.5.0",
      "_model_name": "HTMLModel",
      "_view_count": null,
      "_view_module": "@jupyter-widgets/controls",
      "_view_module_version": "1.5.0",
      "_view_name": "HTMLView",
      "description": "",
      "description_tooltip": null,
      "layout": "IPY_MODEL_030c887b5f5e4b369a57e2d84416a0cf",
      "placeholder": "​",
      "style": "IPY_MODEL_143c72c10698485fb0c84cd13f386903",
      "value": "100%"
     }
    },
    "8f342e3931604056913d2d7b54918786": {
     "model_module": "@jupyter-widgets/base",
     "model_module_version": "1.2.0",
     "model_name": "LayoutModel",
     "state": {
      "_model_module": "@jupyter-widgets/base",
      "_model_module_version": "1.2.0",
      "_model_name": "LayoutModel",
      "_view_count": null,
      "_view_module": "@jupyter-widgets/base",
      "_view_module_version": "1.2.0",
      "_view_name": "LayoutView",
      "align_content": null,
      "align_items": null,
      "align_self": null,
      "border": null,
      "bottom": null,
      "display": null,
      "flex": null,
      "flex_flow": null,
      "grid_area": null,
      "grid_auto_columns": null,
      "grid_auto_flow": null,
      "grid_auto_rows": null,
      "grid_column": null,
      "grid_gap": null,
      "grid_row": null,
      "grid_template_areas": null,
      "grid_template_columns": null,
      "grid_template_rows": null,
      "height": null,
      "justify_content": null,
      "justify_items": null,
      "left": null,
      "margin": null,
      "max_height": null,
      "max_width": null,
      "min_height": null,
      "min_width": null,
      "object_fit": null,
      "object_position": null,
      "order": null,
      "overflow": null,
      "overflow_x": null,
      "overflow_y": null,
      "padding": null,
      "right": null,
      "top": null,
      "visibility": null,
      "width": null
     }
    },
    "9ca955d3ed084e85b5d7221e89ed5d63": {
     "model_module": "@jupyter-widgets/controls",
     "model_module_version": "1.5.0",
     "model_name": "ProgressStyleModel",
     "state": {
      "_model_module": "@jupyter-widgets/controls",
      "_model_module_version": "1.5.0",
      "_model_name": "ProgressStyleModel",
      "_view_count": null,
      "_view_module": "@jupyter-widgets/base",
      "_view_module_version": "1.2.0",
      "_view_name": "StyleView",
      "bar_color": null,
      "description_width": ""
     }
    },
    "a8ab7fd715c743b99a86d5d552274ffe": {
     "model_module": "@jupyter-widgets/controls",
     "model_module_version": "1.5.0",
     "model_name": "DescriptionStyleModel",
     "state": {
      "_model_module": "@jupyter-widgets/controls",
      "_model_module_version": "1.5.0",
      "_model_name": "DescriptionStyleModel",
      "_view_count": null,
      "_view_module": "@jupyter-widgets/base",
      "_view_module_version": "1.2.0",
      "_view_name": "StyleView",
      "description_width": ""
     }
    },
    "af86797e5e924c8eaf9397474c0c68aa": {
     "model_module": "@jupyter-widgets/controls",
     "model_module_version": "1.5.0",
     "model_name": "HBoxModel",
     "state": {
      "_dom_classes": [],
      "_model_module": "@jupyter-widgets/controls",
      "_model_module_version": "1.5.0",
      "_model_name": "HBoxModel",
      "_view_count": null,
      "_view_module": "@jupyter-widgets/controls",
      "_view_module_version": "1.5.0",
      "_view_name": "HBoxView",
      "box_style": "",
      "children": [
       "IPY_MODEL_471b260120db4e0ca7675e985f844022",
       "IPY_MODEL_13e04dcf48b8474794a5fcc2e594a326",
       "IPY_MODEL_f6ef33cb6254442faf66853f438c47d7"
      ],
      "layout": "IPY_MODEL_59b0edb02ee643c6bd9c7a033b8b2e86"
     }
    },
    "bcef26bfbd284505a063eca2ac2c5c99": {
     "model_module": "@jupyter-widgets/controls",
     "model_module_version": "1.5.0",
     "model_name": "HBoxModel",
     "state": {
      "_dom_classes": [],
      "_model_module": "@jupyter-widgets/controls",
      "_model_module_version": "1.5.0",
      "_model_name": "HBoxModel",
      "_view_count": null,
      "_view_module": "@jupyter-widgets/controls",
      "_view_module_version": "1.5.0",
      "_view_name": "HBoxView",
      "box_style": "",
      "children": [
       "IPY_MODEL_8988fdcd4958477b96d46be163360520",
       "IPY_MODEL_1f9e64ac782443a2abc8d837e7b451fc",
       "IPY_MODEL_c69dca0d94de4e90b68009403d423d65"
      ],
      "layout": "IPY_MODEL_0171757e063c4b6787239eab2bf62712"
     }
    },
    "bfdffc17fb9d48a2a5c3ae5b0b497428": {
     "model_module": "@jupyter-widgets/controls",
     "model_module_version": "1.5.0",
     "model_name": "FloatProgressModel",
     "state": {
      "_dom_classes": [],
      "_model_module": "@jupyter-widgets/controls",
      "_model_module_version": "1.5.0",
      "_model_name": "FloatProgressModel",
      "_view_count": null,
      "_view_module": "@jupyter-widgets/controls",
      "_view_module_version": "1.5.0",
      "_view_name": "ProgressView",
      "bar_style": "success",
      "description": "",
      "description_tooltip": null,
      "layout": "IPY_MODEL_8f342e3931604056913d2d7b54918786",
      "max": 11716,
      "min": 0,
      "orientation": "horizontal",
      "style": "IPY_MODEL_42ad5dd102a747d886188be9034a37a3",
      "value": 11716
     }
    },
    "c69dca0d94de4e90b68009403d423d65": {
     "model_module": "@jupyter-widgets/controls",
     "model_module_version": "1.5.0",
     "model_name": "HTMLModel",
     "state": {
      "_dom_classes": [],
      "_model_module": "@jupyter-widgets/controls",
      "_model_module_version": "1.5.0",
      "_model_name": "HTMLModel",
      "_view_count": null,
      "_view_module": "@jupyter-widgets/controls",
      "_view_module_version": "1.5.0",
      "_view_name": "HTMLView",
      "description": "",
      "description_tooltip": null,
      "layout": "IPY_MODEL_dcedf7288cf44704b23cd59211db5553",
      "placeholder": "​",
      "style": "IPY_MODEL_1a65899b14554c9a9d9a76118255b282",
      "value": " 11716/11716 [00:00&lt;00:00, 50963.73it/s]"
     }
    },
    "ca398757171d46b09af17250059b1bef": {
     "model_module": "@jupyter-widgets/controls",
     "model_module_version": "1.5.0",
     "model_name": "HBoxModel",
     "state": {
      "_dom_classes": [],
      "_model_module": "@jupyter-widgets/controls",
      "_model_module_version": "1.5.0",
      "_model_name": "HBoxModel",
      "_view_count": null,
      "_view_module": "@jupyter-widgets/controls",
      "_view_module_version": "1.5.0",
      "_view_name": "HBoxView",
      "box_style": "",
      "children": [
       "IPY_MODEL_dba6ea3b19dd4d5fb6a043fa2e0e3be3",
       "IPY_MODEL_bfdffc17fb9d48a2a5c3ae5b0b497428",
       "IPY_MODEL_7018628217ef47c7abc6471359c43073"
      ],
      "layout": "IPY_MODEL_82ef22a869c14c4e8a4893e6520e8f68"
     }
    },
    "ce0476edd2334c809dc5cc82ee42a1b8": {
     "model_module": "@jupyter-widgets/base",
     "model_module_version": "1.2.0",
     "model_name": "LayoutModel",
     "state": {
      "_model_module": "@jupyter-widgets/base",
      "_model_module_version": "1.2.0",
      "_model_name": "LayoutModel",
      "_view_count": null,
      "_view_module": "@jupyter-widgets/base",
      "_view_module_version": "1.2.0",
      "_view_name": "LayoutView",
      "align_content": null,
      "align_items": null,
      "align_self": null,
      "border": null,
      "bottom": null,
      "display": null,
      "flex": null,
      "flex_flow": null,
      "grid_area": null,
      "grid_auto_columns": null,
      "grid_auto_flow": null,
      "grid_auto_rows": null,
      "grid_column": null,
      "grid_gap": null,
      "grid_row": null,
      "grid_template_areas": null,
      "grid_template_columns": null,
      "grid_template_rows": null,
      "height": null,
      "justify_content": null,
      "justify_items": null,
      "left": null,
      "margin": null,
      "max_height": null,
      "max_width": null,
      "min_height": null,
      "min_width": null,
      "object_fit": null,
      "object_position": null,
      "order": null,
      "overflow": null,
      "overflow_x": null,
      "overflow_y": null,
      "padding": null,
      "right": null,
      "top": null,
      "visibility": null,
      "width": null
     }
    },
    "d26c7d4806aa41e69e63f757f724a29f": {
     "model_module": "@jupyter-widgets/controls",
     "model_module_version": "1.5.0",
     "model_name": "DescriptionStyleModel",
     "state": {
      "_model_module": "@jupyter-widgets/controls",
      "_model_module_version": "1.5.0",
      "_model_name": "DescriptionStyleModel",
      "_view_count": null,
      "_view_module": "@jupyter-widgets/base",
      "_view_module_version": "1.2.0",
      "_view_name": "StyleView",
      "description_width": ""
     }
    },
    "dba6ea3b19dd4d5fb6a043fa2e0e3be3": {
     "model_module": "@jupyter-widgets/controls",
     "model_module_version": "1.5.0",
     "model_name": "HTMLModel",
     "state": {
      "_dom_classes": [],
      "_model_module": "@jupyter-widgets/controls",
      "_model_module_version": "1.5.0",
      "_model_name": "HTMLModel",
      "_view_count": null,
      "_view_module": "@jupyter-widgets/controls",
      "_view_module_version": "1.5.0",
      "_view_name": "HTMLView",
      "description": "",
      "description_tooltip": null,
      "layout": "IPY_MODEL_6188cf5a532a401fb8bbe1e3925d4b39",
      "placeholder": "​",
      "style": "IPY_MODEL_d26c7d4806aa41e69e63f757f724a29f",
      "value": "100%"
     }
    },
    "dcedf7288cf44704b23cd59211db5553": {
     "model_module": "@jupyter-widgets/base",
     "model_module_version": "1.2.0",
     "model_name": "LayoutModel",
     "state": {
      "_model_module": "@jupyter-widgets/base",
      "_model_module_version": "1.2.0",
      "_model_name": "LayoutModel",
      "_view_count": null,
      "_view_module": "@jupyter-widgets/base",
      "_view_module_version": "1.2.0",
      "_view_name": "LayoutView",
      "align_content": null,
      "align_items": null,
      "align_self": null,
      "border": null,
      "bottom": null,
      "display": null,
      "flex": null,
      "flex_flow": null,
      "grid_area": null,
      "grid_auto_columns": null,
      "grid_auto_flow": null,
      "grid_auto_rows": null,
      "grid_column": null,
      "grid_gap": null,
      "grid_row": null,
      "grid_template_areas": null,
      "grid_template_columns": null,
      "grid_template_rows": null,
      "height": null,
      "justify_content": null,
      "justify_items": null,
      "left": null,
      "margin": null,
      "max_height": null,
      "max_width": null,
      "min_height": null,
      "min_width": null,
      "object_fit": null,
      "object_position": null,
      "order": null,
      "overflow": null,
      "overflow_x": null,
      "overflow_y": null,
      "padding": null,
      "right": null,
      "top": null,
      "visibility": null,
      "width": null
     }
    },
    "f63b5f970fac4515a48ccc3178d4efef": {
     "model_module": "@jupyter-widgets/base",
     "model_module_version": "1.2.0",
     "model_name": "LayoutModel",
     "state": {
      "_model_module": "@jupyter-widgets/base",
      "_model_module_version": "1.2.0",
      "_model_name": "LayoutModel",
      "_view_count": null,
      "_view_module": "@jupyter-widgets/base",
      "_view_module_version": "1.2.0",
      "_view_name": "LayoutView",
      "align_content": null,
      "align_items": null,
      "align_self": null,
      "border": null,
      "bottom": null,
      "display": null,
      "flex": null,
      "flex_flow": null,
      "grid_area": null,
      "grid_auto_columns": null,
      "grid_auto_flow": null,
      "grid_auto_rows": null,
      "grid_column": null,
      "grid_gap": null,
      "grid_row": null,
      "grid_template_areas": null,
      "grid_template_columns": null,
      "grid_template_rows": null,
      "height": null,
      "justify_content": null,
      "justify_items": null,
      "left": null,
      "margin": null,
      "max_height": null,
      "max_width": null,
      "min_height": null,
      "min_width": null,
      "object_fit": null,
      "object_position": null,
      "order": null,
      "overflow": null,
      "overflow_x": null,
      "overflow_y": null,
      "padding": null,
      "right": null,
      "top": null,
      "visibility": null,
      "width": null
     }
    },
    "f6ef33cb6254442faf66853f438c47d7": {
     "model_module": "@jupyter-widgets/controls",
     "model_module_version": "1.5.0",
     "model_name": "HTMLModel",
     "state": {
      "_dom_classes": [],
      "_model_module": "@jupyter-widgets/controls",
      "_model_module_version": "1.5.0",
      "_model_name": "HTMLModel",
      "_view_count": null,
      "_view_module": "@jupyter-widgets/controls",
      "_view_module_version": "1.5.0",
      "_view_name": "HTMLView",
      "description": "",
      "description_tooltip": null,
      "layout": "IPY_MODEL_03ba2a4502f74d6eb9e8331d244b36cc",
      "placeholder": "​",
      "style": "IPY_MODEL_a8ab7fd715c743b99a86d5d552274ffe",
      "value": " 10688/10688 [00:01&lt;00:00, 9571.55it/s]"
     }
    }
   }
  }
 },
 "nbformat": 4,
 "nbformat_minor": 1
}
